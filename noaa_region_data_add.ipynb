{
 "cells": [
  {
   "attachments": {},
   "cell_type": "markdown",
   "metadata": {},
   "source": [
    "The functions used to create the fire_climate_data function"
   ]
  },
  {
   "cell_type": "code",
   "execution_count": 3,
   "metadata": {},
   "outputs": [],
   "source": [
    "import requests\n",
    "import pandas as pd\n",
    "import io\n",
    "from shapely import Point, Polygon\n",
    "import re\n",
    "\n",
    "#Fire regions established the california fire science consortium \n",
    "\n",
    "region_a = Polygon([(38.874909265688,-121.53076171875),(34.760701047279,-118.36669921875),(36.263007941398,-116.30126953125),(38.874909265688,-120.08056640625)])\n",
    "region_b = Polygon([(32.436904704681,-117.67456054688),(32.733128299191,-114.11499023438),(34.471596825755,-114.20288085938),(36.174592339967,-116.22436523438),(34.74287008807,-118.28979492188),(34.23577762138,-117.14721679688),(32.91777007614,-119.56420898438)])\n",
    "region_c = Polygon([(41.959490098925,-124.4091796875),(41.959490098925,-119.8388671875),(39.087436032159,-119.9267578125),(39.053318106741,-124.80468755)])\n",
    "region_d = Polygon([(39.007575869284,-123.804931640625),(32.931610922518,-119.5861816406),(34.267569211232,-117.36694335938),(34.720305876154,-118.44360351562),(39.007575869284,-121.76147460938)])\n",
    "regions = [region_a,region_b, region_c, region_d]\n",
    "\n",
    "#takes the fire location and returns region of fire \n",
    "def find_region(fire_location):\n",
    "  for region in regions:\n",
    "    if region.contains(fire_location.centroid):\n",
    "      return region\n",
    "  raise RuntimeError ('fire not in regions, expand regions')\n",
    "\n",
    "\n",
    "\n",
    "\n",
    "#takes the region and returns a list of stations in region and their coordinates\n",
    "def region_station_list(region): \n",
    "  \n",
    "  file = open('./ccsl.txt', 'r')\n",
    "  count = 0\n",
    "  station_list = []\n",
    "  while True:\n",
    "    count += 1\n",
    "    line = file.readline()\n",
    "\n",
    "    if not line:\n",
    "      break\n",
    "    \n",
    "    #convert the station into a shapely point to check for containment \n",
    "    station_coordinate_lat = line[84:93]\n",
    "    station_coordinate_lon = line[95:105] #x99*99'99\"\n",
    "    if ('*' not in station_coordinate_lat) and ('*' not in station_coordinate_lon):\n",
    "      continue\n",
    "    station_coordinate_lat_D = station_coordinate_lat.split('*')[0] # \n",
    "    station_coordinate_lat_M = station_coordinate_lat.split('*')[1].split('\\'')[0]\n",
    "    station_coordinate_lat_S = station_coordinate_lat.split('*')[1].split('\\'')[1]\n",
    "    station_coordinate_lon_D = station_coordinate_lon.split('*')[0]\n",
    "    station_coordinate_lon_M = station_coordinate_lon.split('*')[1].split('\\'')[0]\n",
    "    station_coordinate_lon_S = station_coordinate_lon.split('*')[1].split('\\'')[1]\n",
    "\n",
    "    station_coordinate_lat = station_coordinate_lat_D + station_coordinate_lat_M.div(60) + station_coordinate_lat_S.div(3600)\n",
    "    station_coordinate_lon = station_coordinate_lon_D + station_coordinate_lon_M.div(60) + station_coordinate_lon_S.div(3600)\n",
    "    station_coordinate = (station_coordinate_lat, station_coordinate_lon)\n",
    "    station_coordinate = Point(station_coordinate)\n",
    "    \n",
    "    #check for containment inside the polygon to create a string of stations \n",
    "    if region.contains(station_coordinate):  \n",
    "      station_id = line[75:83]\n",
    "      station_list.append((station_id, station_coordinate))\n",
    "  file.close()\n",
    "  return station_list \n",
    "  \n",
    "\n",
    "\n",
    "\n",
    "#takes the list of stations and fire location to return stations within a degree of distance from fire\n",
    "def closest_to_fire_center(station_list, fire_location):\n",
    "  fire_center = fire_location.centroid\n",
    "  request_station_list = []\n",
    "  for station in station_list:\n",
    "    if station[1].distance(fire_center) < 1:\n",
    "      request_station_list.append(station[0])\n",
    "\n",
    "  region_station_list = ','.join(request_station_list) #string to be used in api reguest \n",
    "  return region_station_list\n",
    "\n",
    "\n",
    "\n",
    "#takes a string of closest stations and requests their data \n",
    "def request_station_data(closest_stations):\n",
    "  #polygon to a string for api use \n",
    "  header = {'token': 'SXCObXMuhoovZxrVZpurQqmsHdvJWyUJ'}\n",
    "  r=requests.get(f'https://www.ncei.noaa.gov/access/services/data/v1?dataset=global-summary-of-the-year&stations={closest_stations}&&startDate=1950-01-01T00:00:00z&&endDate=2022-01-01&format=csv&bbox=-124.40959,32.534156,-114.131211,42.009518', headers=header)\n",
    "  if r.status_code != 200:\n",
    "    print(r.status_code)\n",
    "    print(r.text)\n",
    "  df = pd.read_csv(io.StringIO(r.text))\n",
    "  return df\n",
    "\n",
    "\n",
    "#takes the station data returns a dataframe row of the averaged values for year of fire \n",
    "def filter_station_data(station_df, fire_year):\n",
    "  station_df = station_df[station_df['YEAR_'] == fire_year]\n",
    "  station_df = station_df.mean()"
   ]
  },
  {
   "attachments": {},
   "cell_type": "markdown",
   "metadata": {},
   "source": [
    "fire_climate_data takes the fire's location and year, then returns the average of the climate data from noaa stations close to the fire "
   ]
  },
  {
   "cell_type": "code",
   "execution_count": null,
   "metadata": {},
   "outputs": [],
   "source": [
    "def fire_climate_data(fire_location, fire_year): #function that returns the average local climate data for year of the fire as a row to add to dataset \n",
    "  region = find_region(fire_location)\n",
    "  stations = region_station_list(region)\n",
    "  closest_stations = closest_to_fire_center(stations, fire_location)\n",
    "  stations_df = request_station_data(closest_stations)\n",
    "  filtered_df = filter_station_data(stations_df,fire_year)\n",
    "  return filtered_df\n",
    "  "
   ]
  },
  {
   "attachments": {},
   "cell_type": "markdown",
   "metadata": {},
   "source": [
    "Testing my functions "
   ]
  },
  {
   "cell_type": "code",
   "execution_count": null,
   "metadata": {},
   "outputs": [],
   "source": [
    "test_location =  Polygon([(38.874909265688,-121.53076171875),(34.760701047279,-118.36669921875),(36.263007941398,-116.30126953125),(38.874909265688,-120.08056640625)])"
   ]
  }
 ],
 "metadata": {
  "kernelspec": {
   "display_name": "base",
   "language": "python",
   "name": "python3"
  },
  "language_info": {
   "codemirror_mode": {
    "name": "ipython",
    "version": 3
   },
   "file_extension": ".py",
   "mimetype": "text/x-python",
   "name": "python",
   "nbconvert_exporter": "python",
   "pygments_lexer": "ipython3",
   "version": "3.9.13"
  },
  "orig_nbformat": 4,
  "vscode": {
   "interpreter": {
    "hash": "8663238763692368897d3f54f36cc9e5bf7f94a6090f966c76636dce62bc973f"
   }
  }
 },
 "nbformat": 4,
 "nbformat_minor": 2
}
