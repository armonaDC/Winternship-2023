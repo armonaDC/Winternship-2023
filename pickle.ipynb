{
 "cells": [
  {
   "cell_type": "code",
   "execution_count": 1,
   "metadata": {},
   "outputs": [
    {
     "name": "stdout",
     "output_type": "stream",
     "text": [
      "<class 'geopandas.geodataframe.GeoDataFrame'>\n",
      "RangeIndex: 16018 entries, 0 to 16017\n",
      "Data columns (total 6 columns):\n",
      " #   Column     Non-Null Count  Dtype   \n",
      "---  ------     --------------  -----   \n",
      " 0   RPT_YR     16018 non-null  int64   \n",
      " 1   SEVERITY1  16018 non-null  object  \n",
      " 2   TPA_Total  14971 non-null  float64 \n",
      " 3   ACRES      16018 non-null  float64 \n",
      " 4   Date       4993 non-null   object  \n",
      " 5   geometry   16018 non-null  geometry\n",
      "dtypes: float64(2), geometry(1), int64(1), object(2)\n",
      "memory usage: 751.0+ KB\n"
     ]
    }
   ],
   "source": [
    "import pandas as pd\n",
    "import matplotlib.pyplot as plt\n",
    "import numpy as np\n",
    "import geopandas as gpd\n",
    "import pickle\n",
    "\n",
    "data = gpd.read_file('./Clean_tree.geojson')\n",
    "\n",
    "outfile = open('Tree.pickle','wb')\n",
    "pickle.dump(data, outfile)\n",
    "outfile.close()\n",
    "data.info()"
   ]
  },
  {
   "cell_type": "code",
   "execution_count": 2,
   "metadata": {},
   "outputs": [
    {
     "name": "stdout",
     "output_type": "stream",
     "text": [
      "<class 'geopandas.geodataframe.GeoDataFrame'>\n",
      "RangeIndex: 16018 entries, 0 to 16017\n",
      "Data columns (total 6 columns):\n",
      " #   Column     Non-Null Count  Dtype   \n",
      "---  ------     --------------  -----   \n",
      " 0   RPT_YR     16018 non-null  int64   \n",
      " 1   SEVERITY1  16018 non-null  object  \n",
      " 2   TPA_Total  14971 non-null  float64 \n",
      " 3   ACRES      16018 non-null  float64 \n",
      " 4   Date       4993 non-null   object  \n",
      " 5   geometry   16018 non-null  geometry\n",
      "dtypes: float64(2), geometry(1), int64(1), object(2)\n",
      "memory usage: 751.0+ KB\n"
     ]
    }
   ],
   "source": [
    "infile = open('Tree.pickle' , 'rb')\n",
    "newData = pickle.load(infile)\n",
    "infile.close()\n",
    "\n",
    "newData.info()"
   ]
  },
  {
   "cell_type": "code",
   "execution_count": 3,
   "metadata": {},
   "outputs": [],
   "source": [
    "df = gpd.read_file('./S_USA.Activity_HazFuelTrt_PL.gdb')\n",
    "outfile = open('Fuel.pickle' , 'wb')\n",
    "pickle.dump(df , outfile)\n",
    "outfile.close()"
   ]
  }
 ],
 "metadata": {
  "kernelspec": {
   "display_name": "base",
   "language": "python",
   "name": "python3"
  },
  "language_info": {
   "codemirror_mode": {
    "name": "ipython",
    "version": 3
   },
   "file_extension": ".py",
   "mimetype": "text/x-python",
   "name": "python",
   "nbconvert_exporter": "python",
   "pygments_lexer": "ipython3",
   "version": "3.9.13"
  },
  "orig_nbformat": 4,
  "vscode": {
   "interpreter": {
    "hash": "4325e1a0c3d02813449c1007ca689e819e0edc9f1a25cd39f59ee796605c7359"
   }
  }
 },
 "nbformat": 4,
 "nbformat_minor": 2
}
