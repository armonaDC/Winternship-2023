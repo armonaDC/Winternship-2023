{
 "cells": [
  {
   "cell_type": "code",
   "execution_count": 20,
   "metadata": {},
   "outputs": [
    {
     "data": {
      "text/plain": [
       "Index(['YEAR_', 'STATE', 'AGENCY', 'UNIT_ID', 'FIRE_NAME', 'INC_NUM',\n",
       "       'ALARM_DATE', 'CONT_DATE', 'CAUSE', 'COMMENTS', 'REPORT_AC',\n",
       "       'GIS_ACRES', 'C_METHOD', 'OBJECTIVE', 'FIRE_NUM', 'Shape_Length',\n",
       "       'Shape_Area', 'COMPLEX_NAME', 'COMPLEX_INCNUM', 'geometry'],\n",
       "      dtype='object')"
      ]
     },
     "execution_count": 20,
     "metadata": {},
     "output_type": "execute_result"
    }
   ],
   "source": [
    "import pandas as pd\n",
    "import matplotlib.pyplot as plt\n",
    "import numpy as np\n",
    "import geopandas as gpd\n",
    "\n",
    "dataB = gpd.read_file('./fire21_2.gdb/')\n",
    "dataB.columns"
   ]
  },
  {
   "cell_type": "code",
   "execution_count": 21,
   "metadata": {},
   "outputs": [
    {
     "data": {
      "text/html": [
       "<div>\n",
       "<style scoped>\n",
       "    .dataframe tbody tr th:only-of-type {\n",
       "        vertical-align: middle;\n",
       "    }\n",
       "\n",
       "    .dataframe tbody tr th {\n",
       "        vertical-align: top;\n",
       "    }\n",
       "\n",
       "    .dataframe thead th {\n",
       "        text-align: right;\n",
       "    }\n",
       "</style>\n",
       "<table border=\"1\" class=\"dataframe\">\n",
       "  <thead>\n",
       "    <tr style=\"text-align: right;\">\n",
       "      <th></th>\n",
       "      <th>minx</th>\n",
       "      <th>miny</th>\n",
       "      <th>maxx</th>\n",
       "      <th>maxy</th>\n",
       "    </tr>\n",
       "  </thead>\n",
       "  <tbody>\n",
       "    <tr>\n",
       "      <th>0</th>\n",
       "      <td>-121.355040</td>\n",
       "      <td>38.886106</td>\n",
       "      <td>-121.340169</td>\n",
       "      <td>38.890478</td>\n",
       "    </tr>\n",
       "    <tr>\n",
       "      <th>1</th>\n",
       "      <td>-121.387747</td>\n",
       "      <td>38.815755</td>\n",
       "      <td>-121.351426</td>\n",
       "      <td>38.837968</td>\n",
       "    </tr>\n",
       "    <tr>\n",
       "      <th>2</th>\n",
       "      <td>-121.338750</td>\n",
       "      <td>38.841884</td>\n",
       "      <td>-121.331711</td>\n",
       "      <td>38.845649</td>\n",
       "    </tr>\n",
       "    <tr>\n",
       "      <th>3</th>\n",
       "      <td>-121.275792</td>\n",
       "      <td>38.960930</td>\n",
       "      <td>-121.270471</td>\n",
       "      <td>38.963578</td>\n",
       "    </tr>\n",
       "    <tr>\n",
       "      <th>4</th>\n",
       "      <td>-121.302496</td>\n",
       "      <td>39.485433</td>\n",
       "      <td>-121.298675</td>\n",
       "      <td>39.487215</td>\n",
       "    </tr>\n",
       "    <tr>\n",
       "      <th>...</th>\n",
       "      <td>...</td>\n",
       "      <td>...</td>\n",
       "      <td>...</td>\n",
       "      <td>...</td>\n",
       "    </tr>\n",
       "    <tr>\n",
       "      <th>21683</th>\n",
       "      <td>-123.009418</td>\n",
       "      <td>40.846974</td>\n",
       "      <td>-123.003509</td>\n",
       "      <td>40.850995</td>\n",
       "    </tr>\n",
       "    <tr>\n",
       "      <th>21684</th>\n",
       "      <td>-119.569151</td>\n",
       "      <td>37.516216</td>\n",
       "      <td>-119.545889</td>\n",
       "      <td>37.529345</td>\n",
       "    </tr>\n",
       "    <tr>\n",
       "      <th>21685</th>\n",
       "      <td>-122.147823</td>\n",
       "      <td>40.401240</td>\n",
       "      <td>-122.136553</td>\n",
       "      <td>40.410468</td>\n",
       "    </tr>\n",
       "    <tr>\n",
       "      <th>21686</th>\n",
       "      <td>-123.056564</td>\n",
       "      <td>40.845766</td>\n",
       "      <td>-123.051091</td>\n",
       "      <td>40.850576</td>\n",
       "    </tr>\n",
       "    <tr>\n",
       "      <th>21687</th>\n",
       "      <td>-120.386130</td>\n",
       "      <td>39.914746</td>\n",
       "      <td>-120.351031</td>\n",
       "      <td>39.928601</td>\n",
       "    </tr>\n",
       "  </tbody>\n",
       "</table>\n",
       "<p>21688 rows × 4 columns</p>\n",
       "</div>"
      ],
      "text/plain": [
       "             minx       miny        maxx       maxy\n",
       "0     -121.355040  38.886106 -121.340169  38.890478\n",
       "1     -121.387747  38.815755 -121.351426  38.837968\n",
       "2     -121.338750  38.841884 -121.331711  38.845649\n",
       "3     -121.275792  38.960930 -121.270471  38.963578\n",
       "4     -121.302496  39.485433 -121.298675  39.487215\n",
       "...           ...        ...         ...        ...\n",
       "21683 -123.009418  40.846974 -123.003509  40.850995\n",
       "21684 -119.569151  37.516216 -119.545889  37.529345\n",
       "21685 -122.147823  40.401240 -122.136553  40.410468\n",
       "21686 -123.056564  40.845766 -123.051091  40.850576\n",
       "21687 -120.386130  39.914746 -120.351031  39.928601\n",
       "\n",
       "[21688 rows x 4 columns]"
      ]
     },
     "execution_count": 21,
     "metadata": {},
     "output_type": "execute_result"
    }
   ],
   "source": [
    "dataB = dataB.set_crs(epsg = 3310)\n",
    "dataB = dataB.to_crs(epsg = 4326)\n",
    "dataB.geometry.bounds"
   ]
  },
  {
   "attachments": {},
   "cell_type": "markdown",
   "metadata": {},
   "source": [
    "Remove fires not in California and before 1950"
   ]
  },
  {
   "cell_type": "code",
   "execution_count": 22,
   "metadata": {},
   "outputs": [
    {
     "name": "stdout",
     "output_type": "stream",
     "text": [
      "entries: 21688\n",
      "entries: 21593\n",
      "entries: 16369\n"
     ]
    }
   ],
   "source": [
    "dataB.set_index('STATE' , inplace = True) #run entire cell only once after reading from above cell\n",
    "\n",
    "print('entries:', len(dataB))\n",
    "dataB.drop(index = 'NV' , axis = 0, inplace = True) \n",
    "dataB.drop(index = 'OR' , axis = 0, inplace = True) \n",
    "dataB.drop(index = 'AZ' , axis = 0 , inplace = True)\n",
    "print('entries:', len(dataB))\n",
    "\n",
    "# dataB = dataB[dataB['STATE'] != 'AZ'] alternate method of cleaning\n",
    "\n",
    "dataB.reset_index('STATE' , inplace = True)\n",
    "\n",
    "\n",
    "dataB = dataB.loc[dataB[\"YEAR_\"] > \"1949\"] #loc function allows for sorting without reindexing\n",
    "print('entries:', len(dataB))"
   ]
  },
  {
   "attachments": {},
   "cell_type": "markdown",
   "metadata": {},
   "source": [
    "remove entries with missing year"
   ]
  },
  {
   "cell_type": "code",
   "execution_count": 23,
   "metadata": {},
   "outputs": [
    {
     "name": "stdout",
     "output_type": "stream",
     "text": [
      "16369\n",
      "0\n",
      "16369\n",
      "      STATE YEAR_ AGENCY UNIT_ID        FIRE_NAME   INC_NUM  \\\n",
      "1078     CA  1950    CDF     SNU      P.G.& E. #4  00000000   \n",
      "1079     CA  1950    CDF     LMU    BAGGETT GULCH  00000000   \n",
      "2237     CA  1950    CDF     MVU          CONEJOS  00000000   \n",
      "2238     CA  1950    USF     CNF                   00000000   \n",
      "2423     CA  1950    CDF     MVU  SYCAMORE CANYON  00000000   \n",
      "...     ...   ...    ...     ...              ...       ...   \n",
      "18617    CA  1950    NPS     KNP         GOAT MTN  00000000   \n",
      "18618    CA  1950    NPS     KNP        EAGLE PEA  00000000   \n",
      "18619    CA  1950    NPS     KNP        DEER COVE  00000000   \n",
      "18620    CA  1950    NPS     KNP        LIGHTN CR  00000000   \n",
      "18752    CA  1950    NPS     YNP                       None   \n",
      "\n",
      "                      ALARM_DATE                  CONT_DATE  CAUSE  COMMENTS  \\\n",
      "1078   1950-09-03T00:00:00+00:00                       None   14.0             \n",
      "1079   1950-06-02T00:00:00+00:00                       None    9.0             \n",
      "2237   1950-08-16T00:00:00+00:00                       None    9.0             \n",
      "2238                        None                       None    9.0             \n",
      "2423   1950-11-03T00:00:00+00:00                       None   14.0             \n",
      "...                          ...                        ...    ...       ...   \n",
      "18617  1950-08-15T00:00:00+00:00  1950-08-17T00:00:00+00:00    1.0             \n",
      "18618  1950-10-10T00:00:00+00:00  1950-10-13T00:00:00+00:00    1.0             \n",
      "18619  1950-07-27T00:00:00+00:00  1950-07-28T00:00:00+00:00    3.0             \n",
      "18620  1950-09-03T00:00:00+00:00  1950-09-04T00:00:00+00:00    1.0             \n",
      "18752                       None                       None   14.0  20090305   \n",
      "\n",
      "       REPORT_AC     GIS_ACRES  C_METHOD  OBJECTIVE  FIRE_NUM   Shape_Length  \\\n",
      "1078         NaN   1133.364380       NaN        1.0  00000398   10275.686111   \n",
      "1079         NaN   3941.267334       NaN        1.0  00000001   18305.587183   \n",
      "2237         NaN  62848.742188       NaN        1.0  00000564  134246.492184   \n",
      "2238         NaN     39.685848       NaN        1.0  00000002    2050.657844   \n",
      "2423         NaN   3150.342041       NaN        1.0  00000786   13928.088100   \n",
      "...          ...           ...       ...        ...       ...            ...   \n",
      "18617       18.0      4.004176       8.0        1.0  00000021     600.088361   \n",
      "18618      131.0    276.046204       8.0        1.0  00000035    5822.985531   \n",
      "18619      355.0    567.008728       8.0        1.0  00000014    7922.097468   \n",
      "18620       31.0     32.476604       8.0        1.0  00000026    1920.345777   \n",
      "18752        0.0    673.667358       8.0        1.0  00000038    6706.387966   \n",
      "\n",
      "         Shape_Area COMPLEX_NAME COMPLEX_INCNUM  \\\n",
      "1078   4.586563e+06         None           None   \n",
      "1079   1.594974e+07         None           None   \n",
      "2237   2.543398e+08         None           None   \n",
      "2238   1.606029e+05         None           None   \n",
      "2423   1.274898e+07         None           None   \n",
      "...             ...          ...            ...   \n",
      "18617  1.620433e+04         None           None   \n",
      "18618  1.117119e+06         None           None   \n",
      "18619  2.294603e+06         None           None   \n",
      "18620  1.314282e+05         None           None   \n",
      "18752  2.726235e+06         None           None   \n",
      "\n",
      "                                                geometry  \n",
      "1078   MULTIPOLYGON (((-122.75044 38.55355, -122.7482...  \n",
      "1079   MULTIPOLYGON (((-120.81150 41.38038, -120.8109...  \n",
      "2237   MULTIPOLYGON (((-116.51296 32.94816, -116.5126...  \n",
      "2238   MULTIPOLYGON (((-116.60106 33.01355, -116.6011...  \n",
      "2423   MULTIPOLYGON (((-117.02205 32.93213, -117.0208...  \n",
      "...                                                  ...  \n",
      "18617  MULTIPOLYGON (((-118.55076 36.86453, -118.5511...  \n",
      "18618  MULTIPOLYGON (((-118.77911 36.82862, -118.7791...  \n",
      "18619  MULTIPOLYGON (((-118.72151 36.82514, -118.7215...  \n",
      "18620  MULTIPOLYGON (((-118.73510 36.77140, -118.7354...  \n",
      "18752  MULTIPOLYGON (((-119.87207 37.92160, -119.8730...  \n",
      "\n",
      "[226 rows x 20 columns]\n"
     ]
    }
   ],
   "source": [
    "print(len(dataB))\n",
    "print(dataB['YEAR_'].isna().sum()) #isna() is bool but python is 'ducklike' and can add with .sum()\n",
    "dataB = dataB[dataB['YEAR_'].notna()] #reassigns dataframe to the same datafram with column year with no missing year entries\n",
    "print(len(dataB))\n",
    "\n",
    "print(dataB[dataB['YEAR_'] == '1950']) #print all years at 1950"
   ]
  },
  {
   "attachments": {},
   "cell_type": "markdown",
   "metadata": {},
   "source": [
    "Sort Chronologically"
   ]
  },
  {
   "cell_type": "code",
   "execution_count": 19,
   "metadata": {},
   "outputs": [
    {
     "name": "stdout",
     "output_type": "stream",
     "text": [
      "16369 RangeIndex(start=0, stop=16369, step=1)\n"
     ]
    },
    {
     "data": {
      "text/plain": [
       "<bound method NDFrame.tail of       YEAR_ STATE AGENCY UNIT_ID       FIRE_NAME   INC_NUM  \\\n",
       "0      1950    CA    USF     TNF       COLESMILL  00000000   \n",
       "1      1950    CA    CDF     LNU  WALTER TINDELL  00000000   \n",
       "2      1950    CA    CDF     BEU       ECHENIQUE  00000000   \n",
       "3      1950    CA    CCO     VNC    DEVILS GULCH  00000000   \n",
       "4      1950    CA    CDF     BDU           GOCKE  00000000   \n",
       "...     ...   ...    ...     ...             ...       ...   \n",
       "16364  2019    CA    USF     TNF          BORDER  00030785   \n",
       "16365  2019    CA    USF     INF           KELTY  00001465   \n",
       "16366  2019    CA    CCO     ORC    BLUE DIAMOND  19059616   \n",
       "16367  2019    CA    USF     HTF        TAMARACK  00030272   \n",
       "16368  2019    CA    CDF     FKU            YORK  00005720   \n",
       "\n",
       "                      ALARM_DATE                  CONT_DATE  CAUSE  \\\n",
       "0      1950-05-11T00:00:00+00:00  1950-05-29T00:00:00+00:00    5.0   \n",
       "1      1950-05-29T00:00:00+00:00                       None   14.0   \n",
       "2      1950-05-30T00:00:00+00:00                       None   14.0   \n",
       "3      1950-06-01T00:00:00+00:00                       None   14.0   \n",
       "4      1950-06-01T00:00:00+00:00                       None   14.0   \n",
       "...                          ...                        ...    ...   \n",
       "16364                       None                       None   14.0   \n",
       "16365                       None                       None   14.0   \n",
       "16366  0219-05-29T00:00:00+00:00  0219-05-29T00:00:00+00:00   16.0   \n",
       "16367                       None                       None   14.0   \n",
       "16368                       None                       None   14.0   \n",
       "\n",
       "                                          COMMENTS  REPORT_AC    GIS_ACRES  \\\n",
       "0                                                        34.0    47.682655   \n",
       "1                                                         NaN   298.657349   \n",
       "2                                                         NaN  2294.044922   \n",
       "3                                                         NaN    24.589411   \n",
       "4                                                         NaN   466.352112   \n",
       "...                                            ...        ...          ...   \n",
       "16364  from EGP REST Service, phone/ tablet c_meth        NaN    11.514281   \n",
       "16365                        Event Standard Perims        NaN     4.613461   \n",
       "16366                                         None        NaN     2.296940   \n",
       "16367          chanley_nifc;from EGP REST, in July        NaN    67.217476   \n",
       "16368                       Started in Kern county        NaN   160.912430   \n",
       "\n",
       "       C_METHOD  OBJECTIVE  FIRE_NUM  Shape_Length    Shape_Area COMPLEX_NAME  \\\n",
       "0           NaN        1.0  00000004   1678.218750  1.929649e+05         None   \n",
       "1           NaN        1.0  00000001   4868.939837  1.208623e+06         None   \n",
       "2           NaN        1.0  00000019  23045.830455  9.283671e+06         None   \n",
       "3           NaN        1.0  00000000   1159.613071  9.950982e+04         None   \n",
       "4           NaN        1.0  00000005   7793.843742  1.887260e+06         None   \n",
       "...         ...        ...       ...           ...           ...          ...   \n",
       "16364       8.0        1.0      None   1085.257062  4.659664e+04         None   \n",
       "16365       7.0        1.0      None    750.940858  1.867001e+04         None   \n",
       "16366       1.0        1.0      None    935.160088  9.295388e+03         None   \n",
       "16367       1.0        1.0      None   2401.757536  2.720195e+05         None   \n",
       "16368       1.0        1.0      None   5506.139487  6.511895e+05         None   \n",
       "\n",
       "      COMPLEX_INCNUM                                           geometry  \n",
       "0               None  MULTIPOLYGON (((-120.93180 39.46230, -120.9322...  \n",
       "1               None  MULTIPOLYGON (((-122.25912 39.01915, -122.2585...  \n",
       "2               None  MULTIPOLYGON (((-121.01094 36.09663, -121.0083...  \n",
       "3               None  MULTIPOLYGON (((-119.30012 34.40860, -119.3001...  \n",
       "4               None  MULTIPOLYGON (((-116.70201 34.12952, -116.7019...  \n",
       "...              ...                                                ...  \n",
       "16364           None  MULTIPOLYGON (((-120.03694 39.69621, -120.0369...  \n",
       "16365           None  MULTIPOLYGON (((-118.67056 37.76397, -118.6705...  \n",
       "16366           None  MULTIPOLYGON (((-117.69593 33.77283, -117.6959...  \n",
       "16367           None  MULTIPOLYGON (((-119.60635 38.48554, -119.6060...  \n",
       "16368           None  MULTIPOLYGON (((-120.09769 35.79726, -120.0978...  \n",
       "\n",
       "[16369 rows x 20 columns]>"
      ]
     },
     "execution_count": 19,
     "metadata": {},
     "output_type": "execute_result"
    }
   ],
   "source": [
    "dataB.set_index('YEAR_' , inplace = True)\n",
    "dataB.sort_values(by = 'YEAR_' , ascending = True , inplace = True)\n",
    "dataB.reset_index('YEAR_' , inplace = True)\n",
    "\n",
    "dataB['datetime'] = pd.to_datetime(dataB['ALARM_DATE'] , errors = 'coerce') #create new datetime column\n",
    "dataB.set_index('datetime' , inplace = True) #set new column to index\n",
    "dataB.sort_values(by='datetime', ascending = True, inplace = True) #sort values\n",
    "dataB.reset_index('datetime' , inplace = True) #reset index to numbered list\n",
    "dataB.drop('datetime' , axis = 1 , inplace = True) #delete the datetime column\n",
    "\n",
    "print(len(dataB) , dataB.index)\n",
    "dataB.tail\n",
    "\n",
    "# for i in range(8):\n",
    "#     print(dataB[dataB.index == i*1000].ALARM_DATE)"
   ]
  }
 ],
 "metadata": {
  "kernelspec": {
   "display_name": "base",
   "language": "python",
   "name": "python3"
  },
  "language_info": {
   "codemirror_mode": {
    "name": "ipython",
    "version": 3
   },
   "file_extension": ".py",
   "mimetype": "text/x-python",
   "name": "python",
   "nbconvert_exporter": "python",
   "pygments_lexer": "ipython3",
   "version": "3.9.13"
  },
  "orig_nbformat": 4,
  "vscode": {
   "interpreter": {
    "hash": "4325e1a0c3d02813449c1007ca689e819e0edc9f1a25cd39f59ee796605c7359"
   }
  }
 },
 "nbformat": 4,
 "nbformat_minor": 2
}
