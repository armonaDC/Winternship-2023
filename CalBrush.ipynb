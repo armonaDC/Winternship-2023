{
 "cells": [
  {
   "cell_type": "code",
   "execution_count": 144,
   "metadata": {},
   "outputs": [
    {
     "name": "stdout",
     "output_type": "stream",
     "text": [
      "<class 'geopandas.geodataframe.GeoDataFrame'>\n",
      "RangeIndex: 21688 entries, 0 to 21687\n",
      "Data columns (total 20 columns):\n",
      " #   Column          Non-Null Count  Dtype   \n",
      "---  ------          --------------  -----   \n",
      " 0   YEAR_           21620 non-null  object  \n",
      " 1   STATE           21688 non-null  object  \n",
      " 2   AGENCY          21683 non-null  object  \n",
      " 3   UNIT_ID         21671 non-null  object  \n",
      " 4   FIRE_NAME       21674 non-null  object  \n",
      " 5   INC_NUM         21040 non-null  object  \n",
      " 6   ALARM_DATE      16327 non-null  object  \n",
      " 7   CONT_DATE       9022 non-null   object  \n",
      " 8   CAUSE           21664 non-null  float64 \n",
      " 9   COMMENTS        19764 non-null  object  \n",
      " 10  REPORT_AC       9138 non-null   float64 \n",
      " 11  GIS_ACRES       21688 non-null  float64 \n",
      " 12  C_METHOD        9484 non-null   float64 \n",
      " 13  OBJECTIVE       21492 non-null  float64 \n",
      " 14  FIRE_NUM        17741 non-null  object  \n",
      " 15  Shape_Length    21688 non-null  float64 \n",
      " 16  Shape_Area      21688 non-null  float64 \n",
      " 17  COMPLEX_NAME    569 non-null    object  \n",
      " 18  COMPLEX_INCNUM  533 non-null    object  \n",
      " 19  geometry        21688 non-null  geometry\n",
      "dtypes: float64(7), geometry(1), object(12)\n",
      "memory usage: 3.3+ MB\n"
     ]
    }
   ],
   "source": [
    "import pandas as pd\n",
    "import matplotlib.pyplot as plt\n",
    "import numpy as np\n",
    "import geopandas as gpd\n",
    "\n",
    "dataB = gpd.read_file('./fire21_2.gdb/')\n",
    "dataB.info() #see what data we're working with"
   ]
  },
  {
   "attachments": {},
   "cell_type": "markdown",
   "metadata": {},
   "source": [
    "Convert geometry data to coordinates"
   ]
  },
  {
   "cell_type": "code",
   "execution_count": 145,
   "metadata": {},
   "outputs": [
    {
     "data": {
      "text/html": [
       "<div>\n",
       "<style scoped>\n",
       "    .dataframe tbody tr th:only-of-type {\n",
       "        vertical-align: middle;\n",
       "    }\n",
       "\n",
       "    .dataframe tbody tr th {\n",
       "        vertical-align: top;\n",
       "    }\n",
       "\n",
       "    .dataframe thead th {\n",
       "        text-align: right;\n",
       "    }\n",
       "</style>\n",
       "<table border=\"1\" class=\"dataframe\">\n",
       "  <thead>\n",
       "    <tr style=\"text-align: right;\">\n",
       "      <th></th>\n",
       "      <th>minx</th>\n",
       "      <th>miny</th>\n",
       "      <th>maxx</th>\n",
       "      <th>maxy</th>\n",
       "    </tr>\n",
       "  </thead>\n",
       "  <tbody>\n",
       "    <tr>\n",
       "      <th>0</th>\n",
       "      <td>-121.355040</td>\n",
       "      <td>38.886106</td>\n",
       "      <td>-121.340169</td>\n",
       "      <td>38.890478</td>\n",
       "    </tr>\n",
       "    <tr>\n",
       "      <th>1</th>\n",
       "      <td>-121.387747</td>\n",
       "      <td>38.815755</td>\n",
       "      <td>-121.351426</td>\n",
       "      <td>38.837968</td>\n",
       "    </tr>\n",
       "    <tr>\n",
       "      <th>2</th>\n",
       "      <td>-121.338750</td>\n",
       "      <td>38.841884</td>\n",
       "      <td>-121.331711</td>\n",
       "      <td>38.845649</td>\n",
       "    </tr>\n",
       "    <tr>\n",
       "      <th>3</th>\n",
       "      <td>-121.275792</td>\n",
       "      <td>38.960930</td>\n",
       "      <td>-121.270471</td>\n",
       "      <td>38.963578</td>\n",
       "    </tr>\n",
       "    <tr>\n",
       "      <th>4</th>\n",
       "      <td>-121.302496</td>\n",
       "      <td>39.485433</td>\n",
       "      <td>-121.298675</td>\n",
       "      <td>39.487215</td>\n",
       "    </tr>\n",
       "    <tr>\n",
       "      <th>...</th>\n",
       "      <td>...</td>\n",
       "      <td>...</td>\n",
       "      <td>...</td>\n",
       "      <td>...</td>\n",
       "    </tr>\n",
       "    <tr>\n",
       "      <th>21683</th>\n",
       "      <td>-123.009418</td>\n",
       "      <td>40.846974</td>\n",
       "      <td>-123.003509</td>\n",
       "      <td>40.850995</td>\n",
       "    </tr>\n",
       "    <tr>\n",
       "      <th>21684</th>\n",
       "      <td>-119.569151</td>\n",
       "      <td>37.516216</td>\n",
       "      <td>-119.545889</td>\n",
       "      <td>37.529345</td>\n",
       "    </tr>\n",
       "    <tr>\n",
       "      <th>21685</th>\n",
       "      <td>-122.147823</td>\n",
       "      <td>40.401240</td>\n",
       "      <td>-122.136553</td>\n",
       "      <td>40.410468</td>\n",
       "    </tr>\n",
       "    <tr>\n",
       "      <th>21686</th>\n",
       "      <td>-123.056564</td>\n",
       "      <td>40.845766</td>\n",
       "      <td>-123.051091</td>\n",
       "      <td>40.850576</td>\n",
       "    </tr>\n",
       "    <tr>\n",
       "      <th>21687</th>\n",
       "      <td>-120.386130</td>\n",
       "      <td>39.914746</td>\n",
       "      <td>-120.351031</td>\n",
       "      <td>39.928601</td>\n",
       "    </tr>\n",
       "  </tbody>\n",
       "</table>\n",
       "<p>21688 rows × 4 columns</p>\n",
       "</div>"
      ],
      "text/plain": [
       "             minx       miny        maxx       maxy\n",
       "0     -121.355040  38.886106 -121.340169  38.890478\n",
       "1     -121.387747  38.815755 -121.351426  38.837968\n",
       "2     -121.338750  38.841884 -121.331711  38.845649\n",
       "3     -121.275792  38.960930 -121.270471  38.963578\n",
       "4     -121.302496  39.485433 -121.298675  39.487215\n",
       "...           ...        ...         ...        ...\n",
       "21683 -123.009418  40.846974 -123.003509  40.850995\n",
       "21684 -119.569151  37.516216 -119.545889  37.529345\n",
       "21685 -122.147823  40.401240 -122.136553  40.410468\n",
       "21686 -123.056564  40.845766 -123.051091  40.850576\n",
       "21687 -120.386130  39.914746 -120.351031  39.928601\n",
       "\n",
       "[21688 rows x 4 columns]"
      ]
     },
     "execution_count": 145,
     "metadata": {},
     "output_type": "execute_result"
    }
   ],
   "source": [
    "dataB = dataB.set_crs(epsg = 3310)\n",
    "dataB = dataB.to_crs(epsg = 4326)\n",
    "dataB.geometry.bounds"
   ]
  },
  {
   "attachments": {},
   "cell_type": "markdown",
   "metadata": {},
   "source": [
    "Remove fires not in California and before 1950"
   ]
  },
  {
   "cell_type": "code",
   "execution_count": 146,
   "metadata": {},
   "outputs": [
    {
     "name": "stdout",
     "output_type": "stream",
     "text": [
      "entries: 21688\n",
      "entries: 21593\n",
      "entries: 16369\n"
     ]
    }
   ],
   "source": [
    "dataB.set_index('STATE' , inplace = True) #run entire cell only once after reading from above cell\n",
    "\n",
    "print('entries:', len(dataB))\n",
    "dataB.drop(index = 'NV' , axis = 0, inplace = True) \n",
    "dataB.drop(index = 'OR' , axis = 0, inplace = True) \n",
    "dataB.drop(index = 'AZ' , axis = 0 , inplace = True)\n",
    "print('entries:', len(dataB))\n",
    "\n",
    "# dataB = dataB[dataB['STATE'] != 'AZ'] alternate method of cleaning\n",
    "\n",
    "dataB.reset_index('STATE' , inplace = True)\n",
    "\n",
    "\n",
    "dataB = dataB.loc[dataB[\"YEAR_\"] > \"1949\"] #loc function allows for sorting without reindexing\n",
    "print('entries:', len(dataB))"
   ]
  },
  {
   "attachments": {},
   "cell_type": "markdown",
   "metadata": {},
   "source": [
    "remove entries with missing year, missing fire name and less than 10 acres"
   ]
  },
  {
   "cell_type": "code",
   "execution_count": 147,
   "metadata": {},
   "outputs": [
    {
     "name": "stdout",
     "output_type": "stream",
     "text": [
      "16369\n",
      "0\n",
      "16358\n",
      "14177\n"
     ]
    }
   ],
   "source": [
    "print(len(dataB))\n",
    "print(dataB['YEAR_'].isnull().sum()) #isna() is bool but python is 'ducklike' and can add with .sum(), this dataset has no missing year entries\n",
    "dataB = dataB[dataB['YEAR_'].notna()] #reassigns dataframe to the same dataframe with column year with no missing year entries\n",
    "missing_fire = dataB.loc[dataB['FIRE_NAME'].isnull()] #locates indexes where there is no fire name\n",
    "dataB.drop(missing_fire.index , axis = 0 , inplace = True ) #drops indexes with missing names\n",
    "print(len(dataB))\n",
    "dataB = dataB.loc[dataB['GIS_ACRES'] > 10] #reassigns dataframe to the same dataframe w/ acres > 10\n",
    "print(len(dataB))"
   ]
  },
  {
   "attachments": {},
   "cell_type": "markdown",
   "metadata": {},
   "source": [
    "Sort Chronologically"
   ]
  },
  {
   "cell_type": "code",
   "execution_count": 148,
   "metadata": {},
   "outputs": [
    {
     "name": "stdout",
     "output_type": "stream",
     "text": [
      "14177 RangeIndex(start=0, stop=14177, step=1)\n"
     ]
    },
    {
     "data": {
      "text/plain": [
       "<bound method NDFrame.tail of       YEAR_ STATE AGENCY UNIT_ID       FIRE_NAME   INC_NUM  \\\n",
       "0      1950    CA    USF     TNF       COLESMILL  00000000   \n",
       "1      1950    CA    CDF     LNU  WALTER TINDELL  00000000   \n",
       "2      1950    CA    CDF     BEU       ECHENIQUE  00000000   \n",
       "3      1950    CA    CCO     VNC    DEVILS GULCH  00000000   \n",
       "4      1950    CA    CDF     BDU           GOCKE  00000000   \n",
       "...     ...   ...    ...     ...             ...       ...   \n",
       "14172  2018    CA    CDF     RRU     SKYLINE LRA  00090869   \n",
       "14173  2019    CA    NPS     MNP            STAR  00013598   \n",
       "14174  2019    CA    USF     HTF        TAMARACK  00030272   \n",
       "14175  2019    CA    USF     TNF          BORDER  00030785   \n",
       "14176  2019    CA    CDF     FKU            YORK  00005720   \n",
       "\n",
       "                      ALARM_DATE                  CONT_DATE  CAUSE  \\\n",
       "0      1950-05-11T00:00:00+00:00  1950-05-29T00:00:00+00:00    5.0   \n",
       "1      1950-05-29T00:00:00+00:00                       None   14.0   \n",
       "2      1950-05-30T00:00:00+00:00                       None   14.0   \n",
       "3      1950-06-01T00:00:00+00:00                       None   14.0   \n",
       "4      1950-06-01T00:00:00+00:00                       None   14.0   \n",
       "...                          ...                        ...    ...   \n",
       "14172                       None                       None   14.0   \n",
       "14173                       None                       None   14.0   \n",
       "14174                       None                       None   14.0   \n",
       "14175                       None                       None   14.0   \n",
       "14176                       None                       None   14.0   \n",
       "\n",
       "                                          COMMENTS  REPORT_AC    GIS_ACRES  \\\n",
       "0                                                        34.0    47.682655   \n",
       "1                                                         NaN   298.657349   \n",
       "2                                                         NaN  2294.044922   \n",
       "3                                                         NaN    24.589411   \n",
       "4                                                         NaN   466.352112   \n",
       "...                                            ...        ...          ...   \n",
       "14172                                         None        NaN   281.622528   \n",
       "14173                                         None        NaN    66.587181   \n",
       "14174          chanley_nifc;from EGP REST, in July        NaN    67.217476   \n",
       "14175  from EGP REST Service, phone/ tablet c_meth        NaN    11.514281   \n",
       "14176                       Started in Kern county        NaN   160.912430   \n",
       "\n",
       "       C_METHOD  OBJECTIVE  FIRE_NUM  Shape_Length    Shape_Area COMPLEX_NAME  \\\n",
       "0           NaN        1.0  00000004   1678.218750  1.929649e+05         None   \n",
       "1           NaN        1.0  00000001   4868.939837  1.208623e+06         None   \n",
       "2           NaN        1.0  00000019  23045.830455  9.283671e+06         None   \n",
       "3           NaN        1.0  00000000   1159.613071  9.950982e+04         None   \n",
       "4           NaN        1.0  00000005   7793.843742  1.887260e+06         None   \n",
       "...         ...        ...       ...           ...           ...          ...   \n",
       "14172       2.0        1.0      None   5960.532715  1.139686e+06         None   \n",
       "14173       8.0        1.0      None   3897.065019  2.694688e+05         None   \n",
       "14174       1.0        1.0      None   2401.757536  2.720195e+05         None   \n",
       "14175       8.0        1.0      None   1085.257062  4.659664e+04         None   \n",
       "14176       1.0        1.0      None   5506.139487  6.511895e+05         None   \n",
       "\n",
       "      COMPLEX_INCNUM                                           geometry  \n",
       "0               None  MULTIPOLYGON (((-120.93180 39.46230, -120.9322...  \n",
       "1               None  MULTIPOLYGON (((-122.25912 39.01915, -122.2585...  \n",
       "2               None  MULTIPOLYGON (((-121.01094 36.09663, -121.0083...  \n",
       "3               None  MULTIPOLYGON (((-119.30012 34.40860, -119.3001...  \n",
       "4               None  MULTIPOLYGON (((-116.70201 34.12952, -116.7019...  \n",
       "...              ...                                                ...  \n",
       "14172           None  MULTIPOLYGON (((-117.60465 33.83568, -117.6048...  \n",
       "14173           None  MULTIPOLYGON (((-115.49858 35.26827, -115.4986...  \n",
       "14174           None  MULTIPOLYGON (((-119.60635 38.48554, -119.6060...  \n",
       "14175           None  MULTIPOLYGON (((-120.03694 39.69621, -120.0369...  \n",
       "14176           None  MULTIPOLYGON (((-120.09769 35.79726, -120.0978...  \n",
       "\n",
       "[14177 rows x 20 columns]>"
      ]
     },
     "execution_count": 148,
     "metadata": {},
     "output_type": "execute_result"
    }
   ],
   "source": [
    "dataB.set_index('YEAR_' , inplace = True)\n",
    "dataB.sort_values(by = 'YEAR_' , ascending = True , inplace = True)\n",
    "dataB.reset_index('YEAR_' , inplace = True)\n",
    "\n",
    "dataB['datetime'] = pd.to_datetime(dataB['ALARM_DATE'] , errors = 'coerce') #create new datetime column\n",
    "dataB.set_index('datetime' , inplace = True) #set new column to index\n",
    "dataB.sort_values(by='datetime', ascending = True, inplace = True) #sort values\n",
    "dataB.reset_index('datetime' , inplace = True) #reset index to numbered list\n",
    "dataB.drop('datetime' , axis = 1 , inplace = True) #delete the datetime column\n",
    "\n",
    "print(len(dataB) , dataB.index)\n",
    "dataB.tail\n"
   ]
  },
  {
   "attachments": {},
   "cell_type": "markdown",
   "metadata": {},
   "source": [
    "We now want to drop the majority of columns in order to focus on location and time data."
   ]
  },
  {
   "cell_type": "code",
   "execution_count": 149,
   "metadata": {},
   "outputs": [
    {
     "name": "stdout",
     "output_type": "stream",
     "text": [
      "<class 'geopandas.geodataframe.GeoDataFrame'>\n",
      "RangeIndex: 14177 entries, 0 to 14176\n",
      "Data columns (total 6 columns):\n",
      " #   Column      Non-Null Count  Dtype   \n",
      "---  ------      --------------  -----   \n",
      " 0   YEAR_       14177 non-null  object  \n",
      " 1   FIRE_NAME   14177 non-null  object  \n",
      " 2   ALARM_DATE  12649 non-null  object  \n",
      " 3   CAUSE       14163 non-null  float64 \n",
      " 4   GIS_ACRES   14177 non-null  float64 \n",
      " 5   geometry    14177 non-null  geometry\n",
      "dtypes: float64(2), geometry(1), object(3)\n",
      "memory usage: 664.7+ KB\n"
     ]
    }
   ],
   "source": [
    "columns_to_drop = ['STATE' , 'AGENCY' , 'UNIT_ID' , 'INC_NUM' , 'CONT_DATE' , 'REPORT_AC' , 'C_METHOD' , 'OBJECTIVE' , 'FIRE_NUM' , 'Shape_Length' , 'COMPLEX_NAME' , 'COMPLEX_INCNUM' , 'COMMENTS' , 'Shape_Area']\n",
    "dataB.drop(columns_to_drop , axis = 1 , inplace = True)\n",
    "dataB.info()"
   ]
  },
  {
   "attachments": {},
   "cell_type": "markdown",
   "metadata": {},
   "source": [
    "Drop entries without a fire name"
   ]
  },
  {
   "attachments": {},
   "cell_type": "markdown",
   "metadata": {},
   "source": [
    "Export cleaned data to a .geojson"
   ]
  },
  {
   "cell_type": "code",
   "execution_count": 150,
   "metadata": {},
   "outputs": [],
   "source": [
    "dataB.to_file('Clean_brush.geojson', driver = 'GeoJSON' , encoding = 'utf-8')"
   ]
  }
 ],
 "metadata": {
  "kernelspec": {
   "display_name": "base",
   "language": "python",
   "name": "python3"
  },
  "language_info": {
   "codemirror_mode": {
    "name": "ipython",
    "version": 3
   },
   "file_extension": ".py",
   "mimetype": "text/x-python",
   "name": "python",
   "nbconvert_exporter": "python",
   "pygments_lexer": "ipython3",
   "version": "3.9.13"
  },
  "orig_nbformat": 4,
  "vscode": {
   "interpreter": {
    "hash": "4325e1a0c3d02813449c1007ca689e819e0edc9f1a25cd39f59ee796605c7359"
   }
  }
 },
 "nbformat": 4,
 "nbformat_minor": 2
}
