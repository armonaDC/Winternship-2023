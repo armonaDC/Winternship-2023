{
 "cells": [
  {
   "cell_type": "code",
   "execution_count": 15,
   "metadata": {},
   "outputs": [
    {
     "name": "stdout",
     "output_type": "stream",
     "text": [
      "<class 'geopandas.geodataframe.GeoDataFrame'>\n",
      "RangeIndex: 21688 entries, 0 to 21687\n",
      "Data columns (total 20 columns):\n",
      " #   Column          Non-Null Count  Dtype   \n",
      "---  ------          --------------  -----   \n",
      " 0   YEAR_           21620 non-null  object  \n",
      " 1   STATE           21688 non-null  object  \n",
      " 2   AGENCY          21683 non-null  object  \n",
      " 3   UNIT_ID         21671 non-null  object  \n",
      " 4   FIRE_NAME       21674 non-null  object  \n",
      " 5   INC_NUM         21040 non-null  object  \n",
      " 6   ALARM_DATE      16327 non-null  object  \n",
      " 7   CONT_DATE       9022 non-null   object  \n",
      " 8   CAUSE           21664 non-null  float64 \n",
      " 9   COMMENTS        19764 non-null  object  \n",
      " 10  REPORT_AC       9138 non-null   float64 \n",
      " 11  GIS_ACRES       21688 non-null  float64 \n",
      " 12  C_METHOD        9484 non-null   float64 \n",
      " 13  OBJECTIVE       21492 non-null  float64 \n",
      " 14  FIRE_NUM        17741 non-null  object  \n",
      " 15  Shape_Length    21688 non-null  float64 \n",
      " 16  Shape_Area      21688 non-null  float64 \n",
      " 17  COMPLEX_NAME    569 non-null    object  \n",
      " 18  COMPLEX_INCNUM  533 non-null    object  \n",
      " 19  geometry        21688 non-null  geometry\n",
      "dtypes: float64(7), geometry(1), object(12)\n",
      "memory usage: 3.3+ MB\n"
     ]
    }
   ],
   "source": [
    "import pandas as pd\n",
    "import matplotlib.pyplot as plt\n",
    "import numpy as np\n",
    "import geopandas as gpd\n",
    "\n",
    "dataB = gpd.read_file('./fire21_2.gdb/')\n",
    "dataB.info() #see what data we're working with"
   ]
  },
  {
   "attachments": {},
   "cell_type": "markdown",
   "metadata": {},
   "source": [
    "Convert geometry data to coordinates"
   ]
  },
  {
   "cell_type": "code",
   "execution_count": 16,
   "metadata": {},
   "outputs": [
    {
     "data": {
      "text/html": [
       "<div>\n",
       "<style scoped>\n",
       "    .dataframe tbody tr th:only-of-type {\n",
       "        vertical-align: middle;\n",
       "    }\n",
       "\n",
       "    .dataframe tbody tr th {\n",
       "        vertical-align: top;\n",
       "    }\n",
       "\n",
       "    .dataframe thead th {\n",
       "        text-align: right;\n",
       "    }\n",
       "</style>\n",
       "<table border=\"1\" class=\"dataframe\">\n",
       "  <thead>\n",
       "    <tr style=\"text-align: right;\">\n",
       "      <th></th>\n",
       "      <th>minx</th>\n",
       "      <th>miny</th>\n",
       "      <th>maxx</th>\n",
       "      <th>maxy</th>\n",
       "    </tr>\n",
       "  </thead>\n",
       "  <tbody>\n",
       "    <tr>\n",
       "      <th>0</th>\n",
       "      <td>-121.355040</td>\n",
       "      <td>38.886106</td>\n",
       "      <td>-121.340169</td>\n",
       "      <td>38.890478</td>\n",
       "    </tr>\n",
       "    <tr>\n",
       "      <th>1</th>\n",
       "      <td>-121.387747</td>\n",
       "      <td>38.815755</td>\n",
       "      <td>-121.351426</td>\n",
       "      <td>38.837968</td>\n",
       "    </tr>\n",
       "    <tr>\n",
       "      <th>2</th>\n",
       "      <td>-121.338750</td>\n",
       "      <td>38.841884</td>\n",
       "      <td>-121.331711</td>\n",
       "      <td>38.845649</td>\n",
       "    </tr>\n",
       "    <tr>\n",
       "      <th>3</th>\n",
       "      <td>-121.275792</td>\n",
       "      <td>38.960930</td>\n",
       "      <td>-121.270471</td>\n",
       "      <td>38.963578</td>\n",
       "    </tr>\n",
       "    <tr>\n",
       "      <th>4</th>\n",
       "      <td>-121.302496</td>\n",
       "      <td>39.485433</td>\n",
       "      <td>-121.298675</td>\n",
       "      <td>39.487215</td>\n",
       "    </tr>\n",
       "    <tr>\n",
       "      <th>...</th>\n",
       "      <td>...</td>\n",
       "      <td>...</td>\n",
       "      <td>...</td>\n",
       "      <td>...</td>\n",
       "    </tr>\n",
       "    <tr>\n",
       "      <th>21683</th>\n",
       "      <td>-123.009418</td>\n",
       "      <td>40.846974</td>\n",
       "      <td>-123.003509</td>\n",
       "      <td>40.850995</td>\n",
       "    </tr>\n",
       "    <tr>\n",
       "      <th>21684</th>\n",
       "      <td>-119.569151</td>\n",
       "      <td>37.516216</td>\n",
       "      <td>-119.545889</td>\n",
       "      <td>37.529345</td>\n",
       "    </tr>\n",
       "    <tr>\n",
       "      <th>21685</th>\n",
       "      <td>-122.147823</td>\n",
       "      <td>40.401240</td>\n",
       "      <td>-122.136553</td>\n",
       "      <td>40.410468</td>\n",
       "    </tr>\n",
       "    <tr>\n",
       "      <th>21686</th>\n",
       "      <td>-123.056564</td>\n",
       "      <td>40.845766</td>\n",
       "      <td>-123.051091</td>\n",
       "      <td>40.850576</td>\n",
       "    </tr>\n",
       "    <tr>\n",
       "      <th>21687</th>\n",
       "      <td>-120.386130</td>\n",
       "      <td>39.914746</td>\n",
       "      <td>-120.351031</td>\n",
       "      <td>39.928601</td>\n",
       "    </tr>\n",
       "  </tbody>\n",
       "</table>\n",
       "<p>21688 rows × 4 columns</p>\n",
       "</div>"
      ],
      "text/plain": [
       "             minx       miny        maxx       maxy\n",
       "0     -121.355040  38.886106 -121.340169  38.890478\n",
       "1     -121.387747  38.815755 -121.351426  38.837968\n",
       "2     -121.338750  38.841884 -121.331711  38.845649\n",
       "3     -121.275792  38.960930 -121.270471  38.963578\n",
       "4     -121.302496  39.485433 -121.298675  39.487215\n",
       "...           ...        ...         ...        ...\n",
       "21683 -123.009418  40.846974 -123.003509  40.850995\n",
       "21684 -119.569151  37.516216 -119.545889  37.529345\n",
       "21685 -122.147823  40.401240 -122.136553  40.410468\n",
       "21686 -123.056564  40.845766 -123.051091  40.850576\n",
       "21687 -120.386130  39.914746 -120.351031  39.928601\n",
       "\n",
       "[21688 rows x 4 columns]"
      ]
     },
     "execution_count": 16,
     "metadata": {},
     "output_type": "execute_result"
    }
   ],
   "source": [
    "dataB = dataB.set_crs(epsg = 3310)\n",
    "dataB = dataB.to_crs(epsg = 4326)\n",
    "dataB.geometry.bounds"
   ]
  },
  {
   "attachments": {},
   "cell_type": "markdown",
   "metadata": {},
   "source": [
    "Remove fires not in California and before 1950"
   ]
  },
  {
   "cell_type": "code",
   "execution_count": 17,
   "metadata": {},
   "outputs": [
    {
     "name": "stdout",
     "output_type": "stream",
     "text": [
      "entries: 21688\n",
      "entries: 21593\n",
      "entries: 16369\n"
     ]
    }
   ],
   "source": [
    "dataB.set_index('STATE' , inplace = True) #run entire cell only once after reading from above cell\n",
    "\n",
    "print('entries:', len(dataB))\n",
    "dataB.drop(index = 'NV' , axis = 0, inplace = True) \n",
    "dataB.drop(index = 'OR' , axis = 0, inplace = True) \n",
    "dataB.drop(index = 'AZ' , axis = 0 , inplace = True)\n",
    "print('entries:', len(dataB))\n",
    "\n",
    "# dataB = dataB[dataB['STATE'] != 'AZ'] alternate method of cleaning\n",
    "\n",
    "dataB.reset_index('STATE' , inplace = True)\n",
    "\n",
    "\n",
    "dataB = dataB.loc[dataB[\"YEAR_\"] > \"1949\"] #loc function allows for sorting without reindexing\n",
    "print('entries:', len(dataB))"
   ]
  },
  {
   "attachments": {},
   "cell_type": "markdown",
   "metadata": {},
   "source": [
    "remove entries with missing year, missing fire name and less than 1000 acres"
   ]
  },
  {
   "cell_type": "code",
   "execution_count": 18,
   "metadata": {},
   "outputs": [
    {
     "name": "stdout",
     "output_type": "stream",
     "text": [
      "16369\n",
      "0\n",
      "16358\n",
      "2889\n"
     ]
    }
   ],
   "source": [
    "print(len(dataB))\n",
    "print(dataB['YEAR_'].isnull().sum()) #isna() is bool but python is 'ducklike' and can add with .sum(), this dataset has no missing year entries\n",
    "dataB = dataB[dataB['YEAR_'].notna()] #reassigns dataframe to the same dataframe with column year with no missing year entries\n",
    "missing_fire = dataB.loc[dataB['FIRE_NAME'].isnull()] #locates indexes where there is no fire name\n",
    "dataB.drop(missing_fire.index , axis = 0 , inplace = True ) #drops indexes with missing names\n",
    "print(len(dataB))\n",
    "dataB = dataB.loc[dataB['GIS_ACRES'] > 1000] #reassigns dataframe to the same dataframe w/ acres > 10\n",
    "print(len(dataB))"
   ]
  },
  {
   "attachments": {},
   "cell_type": "markdown",
   "metadata": {},
   "source": [
    "Sort Chronologically"
   ]
  },
  {
   "cell_type": "code",
   "execution_count": 19,
   "metadata": {},
   "outputs": [
    {
     "name": "stdout",
     "output_type": "stream",
     "text": [
      "2889 RangeIndex(start=0, stop=2889, step=1)\n"
     ]
    },
    {
     "data": {
      "text/plain": [
       "<bound method NDFrame.tail of      YEAR_ STATE AGENCY UNIT_ID      FIRE_NAME   INC_NUM  \\\n",
       "0     1950    CA    CDF     BEU      ECHENIQUE  00000000   \n",
       "1     1950    CA    CDF     LMU  BAGGETT GULCH  00000000   \n",
       "2     1950    CA    CDF     MVU        BARRETT  00000000   \n",
       "3     1950    CA    CDF     BDU     NORTH FORK  00000000   \n",
       "4     1950    CA    CDF     RRU         RAWSON  00000000   \n",
       "...    ...   ...    ...     ...            ...       ...   \n",
       "2884  2001    CA    NPS     YNP         HOOVER  00001965   \n",
       "2885  2003    CA    USF     CNF                     None   \n",
       "2886  2008    CA    CDF     FKU        AVOCADO  00005639   \n",
       "2887  2016    CA    DOD     AFV         CANYON      None   \n",
       "2888  2016    CA    DOD     MCP         ROBLAR      None   \n",
       "\n",
       "                     ALARM_DATE                  CONT_DATE  CAUSE  \\\n",
       "0     1950-05-30T00:00:00+00:00                       None   14.0   \n",
       "1     1950-06-02T00:00:00+00:00                       None    9.0   \n",
       "2     1950-06-10T00:00:00+00:00                       None   14.0   \n",
       "3     1950-06-30T00:00:00+00:00                       None   14.0   \n",
       "4     1950-06-30T00:00:00+00:00                       None   14.0   \n",
       "...                         ...                        ...    ...   \n",
       "2884                       None                       None    1.0   \n",
       "2885                       None                       None   14.0   \n",
       "2886                       None                       None   11.0   \n",
       "2887                       None  2016-09-28T00:00:00+00:00   14.0   \n",
       "2888                       None  2016-07-25T00:00:00+00:00   14.0   \n",
       "\n",
       "                      COMMENTS  REPORT_AC     GIS_ACRES  C_METHOD  OBJECTIVE  \\\n",
       "0                                     NaN   2294.044922       NaN        1.0   \n",
       "1                                     NaN   3941.267334       NaN        1.0   \n",
       "2                                     NaN   1632.450806       NaN        1.0   \n",
       "3                                     NaN  13187.957031       NaN        1.0   \n",
       "4                                     NaN   3537.735840       NaN        1.0   \n",
       "...                        ...        ...           ...       ...        ...   \n",
       "2884                      None     7233.0   7230.623535       7.0        2.0   \n",
       "2885                      None     2714.0   2713.937988       8.0        NaN   \n",
       "2886                      None     1200.0   1175.196289       1.0        1.0   \n",
       "2887  2016-CAAFV-003151 geomac        NaN  12713.622070       8.0        1.0   \n",
       "2888  2016-CAMCP-002125 geomac        NaN   1244.500000       8.0        1.0   \n",
       "\n",
       "      FIRE_NUM   Shape_Length    Shape_Area COMPLEX_NAME COMPLEX_INCNUM  \\\n",
       "0     00000019   23045.830455  9.283671e+06         None           None   \n",
       "1     00000001   18305.587183  1.594974e+07         None           None   \n",
       "2     00000305   18732.997498  6.606294e+06         None           None   \n",
       "3     00000330   63998.022101  5.336977e+07         None           None   \n",
       "4     00000422   17713.421798  1.431671e+07         None           None   \n",
       "...        ...            ...           ...          ...            ...   \n",
       "2884  00001965  108315.518842  2.926130e+07         None           None   \n",
       "2885      None   13963.115941  1.098292e+07         None           None   \n",
       "2886      None   12326.876235  4.755851e+06         None           None   \n",
       "2887      None   42096.094909  5.145020e+07         None           None   \n",
       "2888      None   16578.901384  5.036313e+06         None           None   \n",
       "\n",
       "                                               geometry  \n",
       "0     MULTIPOLYGON (((-121.01094 36.09663, -121.0083...  \n",
       "1     MULTIPOLYGON (((-120.81150 41.38038, -120.8109...  \n",
       "2     MULTIPOLYGON (((-116.77922 32.88685, -116.7790...  \n",
       "3     MULTIPOLYGON (((-116.70231 34.11833, -116.7005...  \n",
       "4     MULTIPOLYGON (((-116.95530 33.59441, -116.9531...  \n",
       "...                                                 ...  \n",
       "2884  MULTIPOLYGON (((-119.47391 37.70519, -119.4752...  \n",
       "2885  MULTIPOLYGON (((-116.65391 33.34119, -116.6530...  \n",
       "2886  MULTIPOLYGON (((-119.39369 36.78689, -119.3937...  \n",
       "2887  MULTIPOLYGON (((-120.54913 34.63326, -120.5491...  \n",
       "2888  MULTIPOLYGON (((-117.35411 33.41206, -117.3539...  \n",
       "\n",
       "[2889 rows x 20 columns]>"
      ]
     },
     "execution_count": 19,
     "metadata": {},
     "output_type": "execute_result"
    }
   ],
   "source": [
    "dataB.set_index('YEAR_' , inplace = True)\n",
    "dataB.sort_values(by = 'YEAR_' , ascending = True , inplace = True) #sort by year first, then sort by ALARM_DATE\n",
    "dataB.reset_index('YEAR_' , inplace = True)\n",
    "\n",
    "dataB['datetime'] = pd.to_datetime(dataB['ALARM_DATE'] , errors = 'coerce') #create new datetime column\n",
    "dataB.set_index('datetime' , inplace = True) #set new column to index\n",
    "dataB.sort_values(by='datetime', ascending = True, inplace = True) #sort values\n",
    "dataB.reset_index('datetime' , inplace = True) #reset index to numbered list\n",
    "dataB.drop('datetime' , axis = 1 , inplace = True) #delete the datetime column\n",
    "\n",
    "print(len(dataB) , dataB.index)\n",
    "dataB.tail\n"
   ]
  },
  {
   "attachments": {},
   "cell_type": "markdown",
   "metadata": {},
   "source": [
    "We now want to drop the majority of columns in order to focus on location and time data."
   ]
  },
  {
   "cell_type": "code",
   "execution_count": 20,
   "metadata": {},
   "outputs": [
    {
     "name": "stdout",
     "output_type": "stream",
     "text": [
      "<class 'geopandas.geodataframe.GeoDataFrame'>\n",
      "RangeIndex: 2889 entries, 0 to 2888\n",
      "Data columns (total 6 columns):\n",
      " #   Column      Non-Null Count  Dtype   \n",
      "---  ------      --------------  -----   \n",
      " 0   YEAR_       2889 non-null   object  \n",
      " 1   FIRE_NAME   2889 non-null   object  \n",
      " 2   ALARM_DATE  2651 non-null   object  \n",
      " 3   CAUSE       2887 non-null   float64 \n",
      " 4   GIS_ACRES   2889 non-null   float64 \n",
      " 5   geometry    2889 non-null   geometry\n",
      "dtypes: float64(2), geometry(1), object(3)\n",
      "memory usage: 135.5+ KB\n"
     ]
    }
   ],
   "source": [
    "columns_to_drop = ['STATE' , 'AGENCY' , 'UNIT_ID' , 'INC_NUM' , 'CONT_DATE' , \n",
    "'REPORT_AC' , 'C_METHOD' , 'OBJECTIVE' , 'FIRE_NUM' , 'Shape_Length' , \n",
    "'COMPLEX_NAME' , 'COMPLEX_INCNUM' , 'COMMENTS' , 'Shape_Area']\n",
    "dataB.drop(columns_to_drop , axis = 1 , inplace = True)\n",
    "dataB.info()"
   ]
  },
  {
   "attachments": {},
   "cell_type": "markdown",
   "metadata": {},
   "source": [
    "Export cleaned data to a .geojson"
   ]
  },
  {
   "cell_type": "code",
   "execution_count": 21,
   "metadata": {},
   "outputs": [],
   "source": [
    "dataB.to_file('Clean_brush.geojson', driver = 'GeoJSON' , encoding = 'utf-8')"
   ]
  }
 ],
 "metadata": {
  "kernelspec": {
   "display_name": "base",
   "language": "python",
   "name": "python3"
  },
  "language_info": {
   "codemirror_mode": {
    "name": "ipython",
    "version": 3
   },
   "file_extension": ".py",
   "mimetype": "text/x-python",
   "name": "python",
   "nbconvert_exporter": "python",
   "pygments_lexer": "ipython3",
   "version": "3.9.13"
  },
  "orig_nbformat": 4,
  "vscode": {
   "interpreter": {
    "hash": "f506ea6ad3cdd143e00922cd7413cd7a1b83580fe7abf8de8fb11d06ac5448c5"
   }
  }
 },
 "nbformat": 4,
 "nbformat_minor": 2
}
