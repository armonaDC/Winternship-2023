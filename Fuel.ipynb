{
 "cells": [
  {
   "cell_type": "code",
   "execution_count": 50,
   "metadata": {},
   "outputs": [],
   "source": [
    "# importing appropriate libraries and creating a dataframe for the cal fire data\n",
    "import geopandas as gpd\n",
    "import pandas as pd\n",
    "import matplotlib.pyplot as plt\n",
    "import numpy as np\n",
    "from shapely.geometry import Point, Polygon\n",
    "import pickle"
   ]
  },
  {
   "attachments": {},
   "cell_type": "markdown",
   "metadata": {},
   "source": [
    "Reading in burn severity data from - Wildfire Burn Severity and Emissions Inventory: An Example Implementation Over California [1984-2020]\n",
    "URL: https://datadryad.org/stash/dataset/doi:10.6071/M3QX18\n",
    "\n",
    "\n",
    "Corresponding Investigator \n",
    "\tName: Qingqing Xu\n",
    "\tInstitution: University of California: Merced, California, US\n",
    "\tEmail: qxu6@ucmerced.edu\n",
    "\n",
    "Co-investigator 1\n",
    "\tName: Dr LeRoy Westerling\n",
    "\tInstitution: University of California: Merced, California, US\n",
    "    Email: leroy.westerling@icloud.com\n",
    "\n",
    "Co-investigator 2\n",
    "\tName: Dr Jonathan Baldwin\n",
    "\tInstitution: University of California: Merced, California, US\n",
    "    Email: wbaldwin@ucmerced.edu"
   ]
  },
  {
   "cell_type": "code",
   "execution_count": 51,
   "metadata": {},
   "outputs": [],
   "source": [
    "fireData = gpd.read_file('./Area_burned_in_each_burn_severity_class_and_emissions_per_fire_1984_2020.csv')"
   ]
  },
  {
   "cell_type": "code",
   "execution_count": 52,
   "metadata": {},
   "outputs": [
    {
     "name": "stdout",
     "output_type": "stream",
     "text": [
      "<class 'geopandas.geodataframe.GeoDataFrame'>\n",
      "RangeIndex: 1697 entries, 0 to 1696\n",
      "Data columns (total 25 columns):\n",
      " #   Column                 Non-Null Count  Dtype   \n",
      "---  ------                 --------------  -----   \n",
      " 0   Event_ID               1697 non-null   object  \n",
      " 1   Fire_Name              1697 non-null   object  \n",
      " 2   Lat                    1697 non-null   object  \n",
      " 3   Long                   1697 non-null   object  \n",
      " 4   Fire_Year              1697 non-null   object  \n",
      " 5   Fire_Month             1697 non-null   object  \n",
      " 6   Total_area_burned(ha)  1697 non-null   object  \n",
      " 7   Unchanged(ha)          1697 non-null   object  \n",
      " 8   Low_Severity(ha)       1697 non-null   object  \n",
      " 9   Moderate_Severity(ha)  1697 non-null   object  \n",
      " 10  High_Severity(ha)      1697 non-null   object  \n",
      " 11  Grass_Burned(ha)       1697 non-null   object  \n",
      " 12  CO2(kg)                1697 non-null   object  \n",
      " 13  CO(kg)                 1697 non-null   object  \n",
      " 14  CH4(kg)                1697 non-null   object  \n",
      " 15  NMOC(kg)               1697 non-null   object  \n",
      " 16  SO2(kg)                1697 non-null   object  \n",
      " 17  NH3(kg)                1697 non-null   object  \n",
      " 18  NO(kg)                 1697 non-null   object  \n",
      " 19  NO2(kg)                1697 non-null   object  \n",
      " 20  NOx(kg)                1697 non-null   object  \n",
      " 21  PM2.5(kg)              1697 non-null   object  \n",
      " 22  OC(kg)                 1697 non-null   object  \n",
      " 23  BC(kg)                 1697 non-null   object  \n",
      " 24  geometry               0 non-null      geometry\n",
      "dtypes: geometry(1), object(24)\n",
      "memory usage: 331.6+ KB\n"
     ]
    }
   ],
   "source": [
    "fireData.info()"
   ]
  },
  {
   "attachments": {},
   "cell_type": "markdown",
   "metadata": {},
   "source": [
    "Removing emissions data from burnSeverityDF:"
   ]
  },
  {
   "cell_type": "code",
   "execution_count": 53,
   "metadata": {},
   "outputs": [],
   "source": [
    "fireData = fireData.drop(columns=['CO2(kg)', 'CO(kg)', 'CH4(kg)', 'NMOC(kg)', 'SO2(kg)', 'NH3(kg)', 'NO(kg)', 'NO2(kg)', 'NOx(kg)', 'PM2.5(kg)' , 'OC(kg)', 'BC(kg)', 'geometry'])"
   ]
  },
  {
   "cell_type": "code",
   "execution_count": 54,
   "metadata": {},
   "outputs": [
    {
     "name": "stdout",
     "output_type": "stream",
     "text": [
      "<class 'pandas.core.frame.DataFrame'>\n",
      "RangeIndex: 1697 entries, 0 to 1696\n",
      "Data columns (total 12 columns):\n",
      " #   Column                 Non-Null Count  Dtype \n",
      "---  ------                 --------------  ----- \n",
      " 0   Event_ID               1697 non-null   object\n",
      " 1   Fire_Name              1697 non-null   object\n",
      " 2   Lat                    1697 non-null   object\n",
      " 3   Long                   1697 non-null   object\n",
      " 4   Fire_Year              1697 non-null   object\n",
      " 5   Fire_Month             1697 non-null   object\n",
      " 6   Total_area_burned(ha)  1697 non-null   object\n",
      " 7   Unchanged(ha)          1697 non-null   object\n",
      " 8   Low_Severity(ha)       1697 non-null   object\n",
      " 9   Moderate_Severity(ha)  1697 non-null   object\n",
      " 10  High_Severity(ha)      1697 non-null   object\n",
      " 11  Grass_Burned(ha)       1697 non-null   object\n",
      "dtypes: object(12)\n",
      "memory usage: 159.2+ KB\n"
     ]
    }
   ],
   "source": [
    "fireData.info()"
   ]
  },
  {
   "attachments": {},
   "cell_type": "markdown",
   "metadata": {},
   "source": [
    "Reading in file for Hazardous Fuel Treatment Reduction: Polygon\n",
    "\n",
    "Source: USDA\n",
    "\n",
    "URL: https://data.fs.usda.gov/geodata/edw/datasets.php?dsetCategory=environment\n",
    "\n",
    "Metadata: https://data.fs.usda.gov/geodata/edw/edw_resources/meta/S_USA.Activity_HazFuelTrt_PL.xml\n",
    "\n",
    "Data collected by and retrieved from: Forest Service's Natural Resource Manager (NRM) Forest Activity Tracking System (FACTS)"
   ]
  },
  {
   "cell_type": "code",
   "execution_count": 55,
   "metadata": {},
   "outputs": [],
   "source": [
    "infile = open('Fuel.pickle' , 'rb')\n",
    "ft = pickle.load(infile)\n",
    "infile.close()"
   ]
  },
  {
   "attachments": {},
   "cell_type": "markdown",
   "metadata": {},
   "source": [
    "Reassigned to keep only data from California:"
   ]
  },
  {
   "cell_type": "code",
   "execution_count": 56,
   "metadata": {},
   "outputs": [
    {
     "name": "stdout",
     "output_type": "stream",
     "text": [
      "<class 'geopandas.geodataframe.GeoDataFrame'>\n",
      "Int64Index: 88844 entries, 12 to 512832\n",
      "Data columns (total 82 columns):\n",
      " #   Column                       Non-Null Count  Dtype              \n",
      "---  ------                       --------------  -----              \n",
      " 0   SUID                         88844 non-null  object             \n",
      " 1   ORG                          88844 non-null  object             \n",
      " 2   ACTIVITY_CODE                88844 non-null  object             \n",
      " 3   ACTIVITY                     88844 non-null  object             \n",
      " 4   LOCAL_QUALIFIER              88843 non-null  object             \n",
      " 5   ASU_NBR_UNITS                88844 non-null  float64            \n",
      " 6   ASU_UOM                      88844 non-null  object             \n",
      " 7   ADMIN_REGION_CODE            88844 non-null  object             \n",
      " 8   ADMIN_FOREST_CODE            88844 non-null  object             \n",
      " 9   ADMIN_DISTRICT_CODE          88844 non-null  object             \n",
      " 10  STATE_ABBR                   88844 non-null  object             \n",
      " 11  OWNERSHIP_CODE               88844 non-null  object             \n",
      " 12  PROC_REGION_CODE             88844 non-null  object             \n",
      " 13  PROC_FOREST_CODE             88844 non-null  object             \n",
      " 14  LAND_SUITABILITY_CLASS_CODE  75621 non-null  object             \n",
      " 15  PRODUCTIVITY_CLASS_CODE      75329 non-null  object             \n",
      " 16  SLOPE                        22852 non-null  float64            \n",
      " 17  ELEVATION                    27218 non-null  float64            \n",
      " 18  ASPECT                       25437 non-null  object             \n",
      " 19  MGT_AREA_CODE                27341 non-null  object             \n",
      " 20  MGT_PRESCRIPTION_CODE        16685 non-null  object             \n",
      " 21  NBR_UNITS_PLANNED            88844 non-null  float64            \n",
      " 22  NBR_UNITS_ACCOMPLISHED       73845 non-null  float64            \n",
      " 23  UOM                          88844 non-null  object             \n",
      " 24  DATE_PLANNED                 88844 non-null  datetime64[ns, UTC]\n",
      " 25  DATE_AWARDED                 73836 non-null  datetime64[ns, UTC]\n",
      " 26  DATE_COMPLETED               60445 non-null  datetime64[ns, UTC]\n",
      " 27  FISCAL_YEAR_PLANNED          88844 non-null  int64              \n",
      " 28  FY_AWARDED                   73836 non-null  float64            \n",
      " 29  FISCAL_YEAR_COMPLETED        60445 non-null  float64            \n",
      " 30  FY_PLANNED_OR_ACCOMPLISHED   88844 non-null  float64            \n",
      " 31  KEYPOINT                     88844 non-null  object             \n",
      " 32  FUND_CODE                    81483 non-null  object             \n",
      " 33  METHOD_CODE                  88844 non-null  object             \n",
      " 34  EQUIPMENT_CODE               88843 non-null  object             \n",
      " 35  COST_PER_UOM                 80733 non-null  float64            \n",
      " 36  NEPA_PROJECT_ID              88829 non-null  object             \n",
      " 37  NEPA_DOC_NAME                88829 non-null  object             \n",
      " 38  IMPLEMENTATION_PROJECT       53182 non-null  object             \n",
      " 39  IMPLEMENTATION_PROJECT_NBR   53182 non-null  object             \n",
      " 40  IMPLEMENTATION_PROJECT_TYPE  53182 non-null  object             \n",
      " 41  ACCOMPLISHED_UNDER_HFRA      21815 non-null  object             \n",
      " 42  ACCOMPLISHED_UNDER_HFI       21815 non-null  object             \n",
      " 43  ACTIVITY_CN                  88844 non-null  object             \n",
      " 44  ACTIVITY_UNIT_CN             88844 non-null  object             \n",
      " 45  FACTS_ID                     88844 non-null  object             \n",
      " 46  SUBUNIT                      88844 non-null  object             \n",
      " 47  FEATURE_TYPE                 88844 non-null  object             \n",
      " 48  TREATMENT_TYPE               88644 non-null  object             \n",
      " 49  ACTIVITY_UNIT_NAME           71154 non-null  object             \n",
      " 50  ACTIVITY_SUB_UNIT_NAME       78242 non-null  object             \n",
      " 51  WORKFORCE_CODE               82073 non-null  object             \n",
      " 52  NEPA_PROJECT_CN              88839 non-null  object             \n",
      " 53  SUID_CN                      88844 non-null  object             \n",
      " 54  ISWUI                        88835 non-null  object             \n",
      " 55  CWPP                         73561 non-null  object             \n",
      " 56  CAT_NM                       88644 non-null  object             \n",
      " 57  EQUIPMENT                    88843 non-null  object             \n",
      " 58  METHOD                       88844 non-null  object             \n",
      " 59  TREATMENT_NAME               20853 non-null  object             \n",
      " 60  STAGE                        82332 non-null  float64            \n",
      " 61  STAGE_VALUE                  82332 non-null  object             \n",
      " 62  REV_DATE                     63403 non-null  object             \n",
      " 63  DATA_SOURCE                  69877 non-null  object             \n",
      " 64  DATA_SOURCE_VALUE            57285 non-null  object             \n",
      " 65  ACCURACY                     11570 non-null  float64            \n",
      " 66  FS_UNIT_ID                   88844 non-null  object             \n",
      " 67  FS_UNIT_NAME                 88844 non-null  object             \n",
      " 68  CRC_VALUE                    82332 non-null  object             \n",
      " 69  ETL_MODIFIED                 82332 non-null  object             \n",
      " 70  UK                           82332 non-null  object             \n",
      " 71  EDW_INSERT_DATE              82332 non-null  datetime64[ns, UTC]\n",
      " 72  UK_HAZ                       82332 non-null  object             \n",
      " 73  CRC_HAZ                      88844 non-null  object             \n",
      " 74  ETL_MODIFIED_DATE_HAZ        88844 non-null  datetime64[ns, UTC]\n",
      " 75  GIS_ACRES                    82332 non-null  float64            \n",
      " 76  PURPOSE_CODE                 35201 non-null  object             \n",
      " 77  ACT_CREATED_DATE             88844 non-null  datetime64[ns, UTC]\n",
      " 78  ACT_MODIFIED_DATE            88768 non-null  datetime64[ns, UTC]\n",
      " 79  SHAPE_Length                 88844 non-null  float64            \n",
      " 80  SHAPE_Area                   88844 non-null  float64            \n",
      " 81  geometry                     82332 non-null  geometry           \n",
      "dtypes: datetime64[ns, UTC](7), float64(14), geometry(1), int64(1), object(59)\n",
      "memory usage: 56.3+ MB\n"
     ]
    }
   ],
   "source": [
    "ft = ft[ft[\"STATE_ABBR\"] == \"CA\"]\n",
    "ft.info()"
   ]
  },
  {
   "attachments": {},
   "cell_type": "markdown",
   "metadata": {},
   "source": [
    "Drop all rows that do not have data for date completed:"
   ]
  },
  {
   "cell_type": "code",
   "execution_count": 57,
   "metadata": {},
   "outputs": [
    {
     "name": "stdout",
     "output_type": "stream",
     "text": [
      "<class 'geopandas.geodataframe.GeoDataFrame'>\n",
      "Int64Index: 60445 entries, 15 to 512757\n",
      "Data columns (total 82 columns):\n",
      " #   Column                       Non-Null Count  Dtype              \n",
      "---  ------                       --------------  -----              \n",
      " 0   SUID                         60445 non-null  object             \n",
      " 1   ORG                          60445 non-null  object             \n",
      " 2   ACTIVITY_CODE                60445 non-null  object             \n",
      " 3   ACTIVITY                     60445 non-null  object             \n",
      " 4   LOCAL_QUALIFIER              60444 non-null  object             \n",
      " 5   ASU_NBR_UNITS                60445 non-null  float64            \n",
      " 6   ASU_UOM                      60445 non-null  object             \n",
      " 7   ADMIN_REGION_CODE            60445 non-null  object             \n",
      " 8   ADMIN_FOREST_CODE            60445 non-null  object             \n",
      " 9   ADMIN_DISTRICT_CODE          60445 non-null  object             \n",
      " 10  STATE_ABBR                   60445 non-null  object             \n",
      " 11  OWNERSHIP_CODE               60445 non-null  object             \n",
      " 12  PROC_REGION_CODE             60445 non-null  object             \n",
      " 13  PROC_FOREST_CODE             60445 non-null  object             \n",
      " 14  LAND_SUITABILITY_CLASS_CODE  49955 non-null  object             \n",
      " 15  PRODUCTIVITY_CLASS_CODE      49649 non-null  object             \n",
      " 16  SLOPE                        15722 non-null  float64            \n",
      " 17  ELEVATION                    19191 non-null  float64            \n",
      " 18  ASPECT                       17728 non-null  object             \n",
      " 19  MGT_AREA_CODE                18725 non-null  object             \n",
      " 20  MGT_PRESCRIPTION_CODE        11625 non-null  object             \n",
      " 21  NBR_UNITS_PLANNED            60445 non-null  float64            \n",
      " 22  NBR_UNITS_ACCOMPLISHED       60445 non-null  float64            \n",
      " 23  UOM                          60445 non-null  object             \n",
      " 24  DATE_PLANNED                 60445 non-null  datetime64[ns, UTC]\n",
      " 25  DATE_AWARDED                 60445 non-null  datetime64[ns, UTC]\n",
      " 26  DATE_COMPLETED               60445 non-null  datetime64[ns, UTC]\n",
      " 27  FISCAL_YEAR_PLANNED          60445 non-null  int64              \n",
      " 28  FY_AWARDED                   60445 non-null  float64            \n",
      " 29  FISCAL_YEAR_COMPLETED        60445 non-null  float64            \n",
      " 30  FY_PLANNED_OR_ACCOMPLISHED   60445 non-null  float64            \n",
      " 31  KEYPOINT                     60445 non-null  object             \n",
      " 32  FUND_CODE                    60344 non-null  object             \n",
      " 33  METHOD_CODE                  60445 non-null  object             \n",
      " 34  EQUIPMENT_CODE               60444 non-null  object             \n",
      " 35  COST_PER_UOM                 58989 non-null  float64            \n",
      " 36  NEPA_PROJECT_ID              60433 non-null  object             \n",
      " 37  NEPA_DOC_NAME                60433 non-null  object             \n",
      " 38  IMPLEMENTATION_PROJECT       36686 non-null  object             \n",
      " 39  IMPLEMENTATION_PROJECT_NBR   36686 non-null  object             \n",
      " 40  IMPLEMENTATION_PROJECT_TYPE  36686 non-null  object             \n",
      " 41  ACCOMPLISHED_UNDER_HFRA      18782 non-null  object             \n",
      " 42  ACCOMPLISHED_UNDER_HFI       18782 non-null  object             \n",
      " 43  ACTIVITY_CN                  60445 non-null  object             \n",
      " 44  ACTIVITY_UNIT_CN             60445 non-null  object             \n",
      " 45  FACTS_ID                     60445 non-null  object             \n",
      " 46  SUBUNIT                      60445 non-null  object             \n",
      " 47  FEATURE_TYPE                 60445 non-null  object             \n",
      " 48  TREATMENT_TYPE               60354 non-null  object             \n",
      " 49  ACTIVITY_UNIT_NAME           46429 non-null  object             \n",
      " 50  ACTIVITY_SUB_UNIT_NAME       52139 non-null  object             \n",
      " 51  WORKFORCE_CODE               58487 non-null  object             \n",
      " 52  NEPA_PROJECT_CN              60440 non-null  object             \n",
      " 53  SUID_CN                      60445 non-null  object             \n",
      " 54  ISWUI                        60436 non-null  object             \n",
      " 55  CWPP                         51321 non-null  object             \n",
      " 56  CAT_NM                       60354 non-null  object             \n",
      " 57  EQUIPMENT                    60444 non-null  object             \n",
      " 58  METHOD                       60445 non-null  object             \n",
      " 59  TREATMENT_NAME               14077 non-null  object             \n",
      " 60  STAGE                        58603 non-null  float64            \n",
      " 61  STAGE_VALUE                  58603 non-null  object             \n",
      " 62  REV_DATE                     43574 non-null  object             \n",
      " 63  DATA_SOURCE                  48818 non-null  object             \n",
      " 64  DATA_SOURCE_VALUE            40199 non-null  object             \n",
      " 65  ACCURACY                     8304 non-null   float64            \n",
      " 66  FS_UNIT_ID                   60445 non-null  object             \n",
      " 67  FS_UNIT_NAME                 60445 non-null  object             \n",
      " 68  CRC_VALUE                    58603 non-null  object             \n",
      " 69  ETL_MODIFIED                 58603 non-null  object             \n",
      " 70  UK                           58603 non-null  object             \n",
      " 71  EDW_INSERT_DATE              58603 non-null  datetime64[ns, UTC]\n",
      " 72  UK_HAZ                       58603 non-null  object             \n",
      " 73  CRC_HAZ                      60445 non-null  object             \n",
      " 74  ETL_MODIFIED_DATE_HAZ        60445 non-null  datetime64[ns, UTC]\n",
      " 75  GIS_ACRES                    58603 non-null  float64            \n",
      " 76  PURPOSE_CODE                 30318 non-null  object             \n",
      " 77  ACT_CREATED_DATE             60445 non-null  datetime64[ns, UTC]\n",
      " 78  ACT_MODIFIED_DATE            60445 non-null  datetime64[ns, UTC]\n",
      " 79  SHAPE_Length                 60445 non-null  float64            \n",
      " 80  SHAPE_Area                   60445 non-null  float64            \n",
      " 81  geometry                     58603 non-null  geometry           \n",
      "dtypes: datetime64[ns, UTC](7), float64(14), geometry(1), int64(1), object(59)\n",
      "memory usage: 38.3+ MB\n"
     ]
    }
   ],
   "source": [
    "ft = ft[ft['DATE_COMPLETED'].notna()]\n",
    "ft.info()"
   ]
  },
  {
   "attachments": {},
   "cell_type": "markdown",
   "metadata": {},
   "source": [
    "Sort values by year:"
   ]
  },
  {
   "cell_type": "code",
   "execution_count": 58,
   "metadata": {},
   "outputs": [],
   "source": [
    "ft.sort_values(by = ['DATE_COMPLETED'], ascending = True, inplace = True)"
   ]
  },
  {
   "attachments": {},
   "cell_type": "markdown",
   "metadata": {},
   "source": [
    "Drop all years before 1984:"
   ]
  },
  {
   "cell_type": "code",
   "execution_count": 59,
   "metadata": {},
   "outputs": [],
   "source": [
    "ft = ft[ft[\"DATE_COMPLETED\"].dt.year > 1983]"
   ]
  },
  {
   "attachments": {},
   "cell_type": "markdown",
   "metadata": {},
   "source": [
    "Drop all rows that do not have geometry data:"
   ]
  },
  {
   "cell_type": "code",
   "execution_count": 60,
   "metadata": {},
   "outputs": [],
   "source": [
    "ft = ft[ft['geometry'].notna()]"
   ]
  },
  {
   "attachments": {},
   "cell_type": "markdown",
   "metadata": {},
   "source": [
    "Drop unnecessary columns:"
   ]
  },
  {
   "cell_type": "code",
   "execution_count": 61,
   "metadata": {},
   "outputs": [
    {
     "name": "stdout",
     "output_type": "stream",
     "text": [
      "<class 'geopandas.geodataframe.GeoDataFrame'>\n",
      "RangeIndex: 58566 entries, 0 to 58565\n",
      "Data columns (total 3 columns):\n",
      " #   Column          Non-Null Count  Dtype              \n",
      "---  ------          --------------  -----              \n",
      " 0   DATE_COMPLETED  58566 non-null  datetime64[ns, UTC]\n",
      " 1   GIS_ACRES       58566 non-null  float64            \n",
      " 2   geometry        58566 non-null  geometry           \n",
      "dtypes: datetime64[ns, UTC](1), float64(1), geometry(1)\n",
      "memory usage: 1.3 MB\n"
     ]
    }
   ],
   "source": [
    "ft = ft.drop(columns=['ASU_NBR_UNITS', 'ASU_UOM', 'SLOPE', 'ELEVATION', 'UOM', 'FEATURE_TYPE', 'SHAPE_Length', 'SHAPE_Area', 'SUID', 'ORG', 'ACTIVITY_CODE', 'ACTIVITY', 'LOCAL_QUALIFIER', 'ADMIN_REGION_CODE', 'ADMIN_FOREST_CODE', 'ADMIN_DISTRICT_CODE', 'STATE_ABBR', 'OWNERSHIP_CODE', 'PROC_REGION_CODE', 'PROC_FOREST_CODE', 'LAND_SUITABILITY_CLASS_CODE', 'PRODUCTIVITY_CLASS_CODE', 'ASPECT', 'MGT_AREA_CODE', 'MGT_PRESCRIPTION_CODE', 'NBR_UNITS_PLANNED', 'NBR_UNITS_ACCOMPLISHED', 'DATE_PLANNED', 'DATE_AWARDED', 'FISCAL_YEAR_PLANNED', 'FY_AWARDED', 'FISCAL_YEAR_COMPLETED', 'FY_PLANNED_OR_ACCOMPLISHED', 'KEYPOINT', 'FUND_CODE', 'METHOD_CODE', 'EQUIPMENT_CODE', 'COST_PER_UOM', 'NEPA_PROJECT_ID', 'NEPA_DOC_NAME', 'IMPLEMENTATION_PROJECT', 'IMPLEMENTATION_PROJECT_NBR', 'IMPLEMENTATION_PROJECT_TYPE', 'ACCOMPLISHED_UNDER_HFRA', 'ACCOMPLISHED_UNDER_HFI', 'ACTIVITY_CN', 'ACTIVITY_UNIT_CN', 'FACTS_ID', 'SUBUNIT', 'TREATMENT_TYPE', 'ACTIVITY_UNIT_NAME', 'ACTIVITY_SUB_UNIT_NAME', 'WORKFORCE_CODE', 'NEPA_PROJECT_CN', 'SUID_CN', 'ISWUI', 'CWPP', 'CAT_NM', 'EQUIPMENT', 'METHOD', 'TREATMENT_NAME', 'STAGE', 'STAGE_VALUE', 'REV_DATE', 'DATA_SOURCE', 'DATA_SOURCE_VALUE', 'ACCURACY', 'FS_UNIT_ID', 'FS_UNIT_NAME', 'CRC_VALUE', 'ETL_MODIFIED', 'UK', 'EDW_INSERT_DATE', 'UK_HAZ', 'CRC_HAZ', 'ETL_MODIFIED_DATE_HAZ', 'PURPOSE_CODE', 'ACT_CREATED_DATE', 'ACT_MODIFIED_DATE'])\n",
    "ft.reset_index(drop=True, inplace=True)\n",
    "ft.info()"
   ]
  },
  {
   "attachments": {},
   "cell_type": "markdown",
   "metadata": {},
   "source": [
    "Change lattitude and longitude to numeric in order to make fire point"
   ]
  },
  {
   "cell_type": "code",
   "execution_count": 62,
   "metadata": {},
   "outputs": [
    {
     "name": "stdout",
     "output_type": "stream",
     "text": [
      "<class 'pandas.core.frame.DataFrame'>\n",
      "RangeIndex: 1697 entries, 0 to 1696\n",
      "Data columns (total 12 columns):\n",
      " #   Column                 Non-Null Count  Dtype  \n",
      "---  ------                 --------------  -----  \n",
      " 0   Event_ID               1697 non-null   object \n",
      " 1   Fire_Name              1697 non-null   object \n",
      " 2   Lat                    1697 non-null   float64\n",
      " 3   Long                   1697 non-null   float64\n",
      " 4   Fire_Year              1697 non-null   object \n",
      " 5   Fire_Month             1697 non-null   object \n",
      " 6   Total_area_burned(ha)  1697 non-null   object \n",
      " 7   Unchanged(ha)          1697 non-null   object \n",
      " 8   Low_Severity(ha)       1697 non-null   object \n",
      " 9   Moderate_Severity(ha)  1697 non-null   object \n",
      " 10  High_Severity(ha)      1697 non-null   object \n",
      " 11  Grass_Burned(ha)       1697 non-null   object \n",
      "dtypes: float64(2), object(10)\n",
      "memory usage: 159.2+ KB\n"
     ]
    }
   ],
   "source": [
    "fireData['Lat'] = fireData['Lat'].apply(pd.to_numeric)\n",
    "fireData['Long'] = fireData['Long'].apply(pd.to_numeric)\n",
    "fireData.info()"
   ]
  },
  {
   "attachments": {},
   "cell_type": "markdown",
   "metadata": {},
   "source": [
    "Search Firedata for each fire's location/time then search Fuel reduction data to see if Fuel reduction was done in the 5 years before the fire. If yes add 1 to new column, if no keep column data as 0."
   ]
  },
  {
   "cell_type": "code",
   "execution_count": 63,
   "metadata": {},
   "outputs": [],
   "source": [
    "fireData['FuelTreatment'] = 0\n",
    "fireData['Fire_Year'] = fireData['Fire_Year'].apply(pd.to_numeric)\n",
    "\n",
    "for i in range(len(fireData)):    \n",
    "    firePoint = Point(fireData.loc[i, 'Lat'], fireData.loc[i, 'Long'])\n",
    "    for j in range(len(ft)):\n",
    "        if (fireData.loc[i, 'Fire_Year'] - ft.loc[j, \"DATE_COMPLETED\"].year <= 5) and (fireData.loc[i, 'Fire_Year'] - ft.loc[j, \"DATE_COMPLETED\"].year >= 0):\n",
    "            if (firePoint.within(ft.loc[j, 'geometry'])):\n",
    "                fireData.loc[i, 'FuelTreatment'] = 1\n",
    "                print('entry changed')\n",
    "                break\n",
    "\n",
    "# fireData['FuelTreatment'] = 0\n",
    "# for i in range(len(fireData)): \n",
    "#     firePoint = Point(fireData.loc[i, 'Long'], fireData.loc[i, 'Lat'])\n",
    "#     asdf = ft['geometry'].contains(firePoint).loc[lambda x : x == True]\n",
    "#     if(asdf.size > 0):\n",
    "#         for j, a in asdf.items():\n",
    "#          if ((fireData.loc[i, 'Fire_Year'] - ft.loc[j, \"DATE_COMPLETED\"].year <= 5) and (fireData.loc[i, 'Fire_Year'] - ft.loc[j, \"DATE_COMPLETED\"].year >= 0)):\n",
    "#             fireData.loc[i, 'FuelTreatment'] = 1"
   ]
  },
  {
   "cell_type": "code",
   "execution_count": 64,
   "metadata": {},
   "outputs": [
    {
     "data": {
      "text/plain": [
       "<bound method Series.count of 0       0\n",
       "1       0\n",
       "2       0\n",
       "3       0\n",
       "4       0\n",
       "       ..\n",
       "1692    0\n",
       "1693    0\n",
       "1694    0\n",
       "1695    0\n",
       "1696    0\n",
       "Name: FuelTreatment, Length: 1697, dtype: int64>"
      ]
     },
     "execution_count": 64,
     "metadata": {},
     "output_type": "execute_result"
    }
   ],
   "source": [
    "fireData.FuelTreatment.count"
   ]
  },
  {
   "cell_type": "code",
   "execution_count": 65,
   "metadata": {},
   "outputs": [],
   "source": [
    "outfile = open('Merged_Fuel.pickle', 'wb')\n",
    "pickle.dump(fireData, outfile)\n",
    "outfile.close()"
   ]
  },
  {
   "cell_type": "code",
   "execution_count": 66,
   "metadata": {},
   "outputs": [],
   "source": [
    "# fireData.to_csv('Merged_Fuel.csv')\n",
    "\n",
    "# qwe = fireData.loc[fireData['FuelTreatment'] == '1']\n",
    "\n",
    "# fireData[qwe.index].info()"
   ]
  }
 ],
 "metadata": {
  "kernelspec": {
   "display_name": "base",
   "language": "python",
   "name": "python3"
  },
  "language_info": {
   "codemirror_mode": {
    "name": "ipython",
    "version": 3
   },
   "file_extension": ".py",
   "mimetype": "text/x-python",
   "name": "python",
   "nbconvert_exporter": "python",
   "pygments_lexer": "ipython3",
   "version": "3.9.13"
  },
  "orig_nbformat": 4,
  "vscode": {
   "interpreter": {
    "hash": "4325e1a0c3d02813449c1007ca689e819e0edc9f1a25cd39f59ee796605c7359"
   }
  }
 },
 "nbformat": 4,
 "nbformat_minor": 2
}
