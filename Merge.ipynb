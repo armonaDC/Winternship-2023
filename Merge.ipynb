{
 "cells": [
  {
   "cell_type": "code",
   "execution_count": 3,
   "metadata": {},
   "outputs": [],
   "source": [
    "import pandas as pd\n",
    "import matplotlib.pyplot as plt\n",
    "import numpy as np\n",
    "import geopandas as gpd\n",
    "\n",
    "T = gpd.read_file(\"./Clean_tree.geojson\" , delim_whitespace = True)\n",
    "F = gpd.read_file(\"./Clean_cal1984.csv\" , header = 0 , delim_whitespace = True)\n",
    "#PC runs this cell in 3 min"
   ]
  },
  {
   "attachments": {},
   "cell_type": "markdown",
   "metadata": {},
   "source": [
    "Workaround to reset dataframes without running first cell"
   ]
  },
  {
   "cell_type": "code",
   "execution_count": 5,
   "metadata": {},
   "outputs": [
    {
     "name": "stdout",
     "output_type": "stream",
     "text": [
      "<class 'geopandas.geodataframe.GeoDataFrame'>\n",
      "RangeIndex: 53084 entries, 0 to 53083\n",
      "Data columns (total 6 columns):\n",
      " #   Column     Non-Null Count  Dtype   \n",
      "---  ------     --------------  -----   \n",
      " 0   RPT_YR     53084 non-null  int64   \n",
      " 1   SEVERITY1  53084 non-null  object  \n",
      " 2   TPA_Total  51998 non-null  float64 \n",
      " 3   ACRES      53084 non-null  float64 \n",
      " 4   Date       15754 non-null  object  \n",
      " 5   geometry   53084 non-null  geometry\n",
      "dtypes: float64(2), geometry(1), int64(1), object(2)\n",
      "memory usage: 2.4+ MB\n",
      "<class 'geopandas.geodataframe.GeoDataFrame'>\n",
      "RangeIndex: 1697 entries, 0 to 1696\n",
      "Data columns (total 8 columns):\n",
      " #   Column                 Non-Null Count  Dtype \n",
      "---  ------                 --------------  ----- \n",
      " 0   Fire_Name              1697 non-null   object\n",
      " 1   Lat                    1697 non-null   object\n",
      " 2   Long                   1697 non-null   object\n",
      " 3   Fire_Year              1697 non-null   object\n",
      " 4   Fire_Month             1697 non-null   object\n",
      " 5   Total_area_burned(ha)  1697 non-null   object\n",
      " 6   Moderate_Severity(ha)  1697 non-null   object\n",
      " 7   High_Severity(ha)      1697 non-null   object\n",
      "dtypes: object(8)\n",
      "memory usage: 106.2+ KB\n"
     ]
    }
   ],
   "source": [
    "dataT = T\n",
    "dataF = F\n",
    "dataF.drop(columns = ['field_1' , 'geometry'] , inplace = True)\n",
    "dataT.info()\n",
    "dataF.info()"
   ]
  }
 ],
 "metadata": {
  "kernelspec": {
   "display_name": "base",
   "language": "python",
   "name": "python3"
  },
  "language_info": {
   "codemirror_mode": {
    "name": "ipython",
    "version": 3
   },
   "file_extension": ".py",
   "mimetype": "text/x-python",
   "name": "python",
   "nbconvert_exporter": "python",
   "pygments_lexer": "ipython3",
   "version": "3.9.13"
  },
  "orig_nbformat": 4,
  "vscode": {
   "interpreter": {
    "hash": "f506ea6ad3cdd143e00922cd7413cd7a1b83580fe7abf8de8fb11d06ac5448c5"
   }
  }
 },
 "nbformat": 4,
 "nbformat_minor": 2
}
