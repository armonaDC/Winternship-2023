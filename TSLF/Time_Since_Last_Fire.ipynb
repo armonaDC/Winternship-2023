{
 "cells": [
  {
   "cell_type": "code",
   "execution_count": null,
   "metadata": {},
   "outputs": [],
   "source": [
    "import pandas as pd\n",
    "import numpy as np\n",
    "data = pd.read_csv(\"./Area_burned_in_each_burn_severity_class_and_emissions_per_fire_1984_2020.csv\")\n",
    "data.sort_values(by=[\"Fire_Year\",\"Fire_Month\"], inplace=True)"
   ]
  },
  {
   "cell_type": "code",
   "execution_count": null,
   "metadata": {},
   "outputs": [],
   "source": [
    "#Region 1\n",
    "newdata = data[(data[\"Lat\"] < 42.000) & (data[\"Lat\"] > 37.827) & (data[\"Long\"] > -124.000) & (data[\"Long\"] < -119.997)]\n",
    "#Region 1: filter all the index satisfied the condition of long and lat\n",
    "newdata.to_csv('./region_1.csv')\n",
    "data.drop(index=newdata.index, inplace=True)\n",
    "\n",
    "newdata"
   ]
  },
  {
   "cell_type": "code",
   "execution_count": null,
   "metadata": {},
   "outputs": [],
   "source": [
    "#Region 2\n",
    "newdata = data[(data[\"Lat\"] < 40.192) & (data[\"Lat\"] > 35.127) & (data[\"Long\"] > -122.192) & (data[\"Long\"] < -118.047)]\n",
    "newdata.to_csv('./region_2.csv')\n",
    "data.drop(index=newdata.index, inplace=True)\n",
    "newdata"
   ]
  },
  {
   "cell_type": "code",
   "execution_count": null,
   "metadata": {},
   "outputs": [],
   "source": [
    "#Region 3\n",
    "newdata = data[(data[\"Lat\"] < 37.424) & (data[\"Lat\"] > 34.806) & (data[\"Long\"] > -118.818) & (data[\"Long\"] < -114.134)]\n",
    "newdata.to_csv('./region_3.csv')\n",
    "data.drop(index=newdata.index, inplace=True)\n",
    "newdata"
   ]
  },
  {
   "cell_type": "code",
   "execution_count": null,
   "metadata": {},
   "outputs": [],
   "source": [
    "data1 = pd.read_csv(\"./region_1.csv\")\n",
    "data2 = pd.read_csv(\"./region_2.csv\")\n",
    "data3 = pd.read_csv(\"./region_3.csv\")\n",
    "print(data1.columns)\n",
    "print(data2.columns)\n",
    "print(data3.columns)\n",
    "#Check if all columns intact"
   ]
  },
  {
   "cell_type": "code",
   "execution_count": null,
   "metadata": {},
   "outputs": [],
   "source": [
    "data.to_csv('./region_4.csv')\n",
    "data"
   ]
  },
  {
   "cell_type": "code",
   "execution_count": null,
   "metadata": {},
   "outputs": [],
   "source": [
    "from datetime import date, timedelta\n",
    "data1 = pd.read_csv(\"./region_1.csv\")\n",
    "data1['TSLF'] = 0\n",
    "data1.sort_values(by=[\"Fire_Year\",\"Fire_Month\"], inplace=True)\n",
    "#while data1['TSLF'].isna()\n",
    "data1.reset_index(inplace=True,drop=True)\n",
    "for i in range(0, len(data1)-1):\n",
    "    if data1.iloc[i+1]['Fire_Year'] > data1.iloc[i]['Fire_Year']:\n",
    "        data1.at[i,'TSLF'] = (((data1.iloc[i+1]['Fire_Year'] -  data1.iloc[i]['Fire_Year']) * 12) + data1.iloc[i+1]['Fire_Month']) - data1.iloc[i]['Fire_Month']\n",
    "    if data1.iloc[i+1]['Fire_Year'] == data1.iloc[i]['Fire_Year']:\n",
    "        data1.at[i,'TSLF']  = data1.iloc[i+1]['Fire_Month'] - data1.iloc[i]['Fire_Month']\n",
    "data1.to_csv('./region_1.csv')\n",
    "data1\n"
   ]
  },
  {
   "cell_type": "code",
   "execution_count": null,
   "metadata": {},
   "outputs": [],
   "source": [
    "#data1.iloc[1]['TSLF'] = data1.iloc[2]['Date'] - data1.iloc[1]['Date']\n",
    "\n",
    "test = data1.iloc[i]['TSLF']\n",
    "print(type(test))\n",
    "print(data1.iloc[i]['TSLF'])"
   ]
  },
  {
   "cell_type": "code",
   "execution_count": null,
   "metadata": {},
   "outputs": [],
   "source": [
    "from datetime import date, timedelta\n",
    "data1 = pd.read_csv(\"./region_2.csv\")\n",
    "data1['TSLF'] = 0\n",
    "data1.sort_values(by=[\"Fire_Year\",\"Fire_Month\"], inplace=True)\n",
    "data1.reset_index(inplace=True,drop=True)\n",
    "for i in range(0, len(data1)-1):\n",
    "    if data1.iloc[i+1]['Fire_Year'] > data1.iloc[i]['Fire_Year']:\n",
    "        data1.at[i,'TSLF'] = (((data1.iloc[i+1]['Fire_Year'] -  data1.iloc[i]['Fire_Year']) * 12) + data1.iloc[i+1]['Fire_Month']) - data1.iloc[i]['Fire_Month']\n",
    "    if data1.iloc[i+1]['Fire_Year'] == data1.iloc[i]['Fire_Year']:\n",
    "        data1.at[i,'TSLF']  = data1.iloc[i+1]['Fire_Month'] - data1.iloc[i]['Fire_Month']\n",
    "data1\n",
    "data1.to_csv('./region_2.csv')\n",
    "data1"
   ]
  },
  {
   "cell_type": "code",
   "execution_count": null,
   "metadata": {},
   "outputs": [],
   "source": [
    "from datetime import date, timedelta\n",
    "data1 = pd.read_csv(\"./region_3.csv\")\n",
    "data1['TSLF'] = 0\n",
    "data1.sort_values(by=[\"Fire_Year\",\"Fire_Month\"], inplace=True)\n",
    "data1.reset_index(inplace=True,drop=True)\n",
    "for i in range(0, len(data1)-1):\n",
    "    if data1.iloc[i+1]['Fire_Year'] > data1.iloc[i]['Fire_Year']:\n",
    "        data1.at[i,'TSLF'] = (((data1.iloc[i+1]['Fire_Year'] -  data1.iloc[i]['Fire_Year']) * 12) + data1.iloc[i+1]['Fire_Month']) - data1.iloc[i]['Fire_Month']\n",
    "    if data1.iloc[i+1]['Fire_Year'] == data1.iloc[i]['Fire_Year']:\n",
    "        data1.at[i,'TSLF']  = data1.iloc[i+1]['Fire_Month'] - data1.iloc[i]['Fire_Month']\n",
    "data1\n",
    "data1.to_csv('./region_3.csv')\n",
    "data1"
   ]
  },
  {
   "cell_type": "code",
   "execution_count": null,
   "metadata": {},
   "outputs": [],
   "source": [
    "from datetime import date, timedelta\n",
    "data1 = pd.read_csv(\"./region_4.csv\")\n",
    "data1['TSLF'] = 0\n",
    "data1.sort_values(by=[\"Fire_Year\",\"Fire_Month\"], inplace=True)\n",
    "data1.reset_index(inplace=True,drop=True)\n",
    "for i in range(0, len(data1)-1):\n",
    "    if data1.iloc[i+1]['Fire_Year'] > data1.iloc[i]['Fire_Year']:\n",
    "        data1.at[i,'TSLF'] = (((data1.iloc[i+1]['Fire_Year'] -  data1.iloc[i]['Fire_Year']) * 12) + data1.iloc[i+1]['Fire_Month']) - data1.iloc[i]['Fire_Month']\n",
    "    if data1.iloc[i+1]['Fire_Year'] == data1.iloc[i]['Fire_Year']:\n",
    "        data1.at[i,'TSLF']  = data1.iloc[i+1]['Fire_Month'] - data1.iloc[i]['Fire_Month']\n",
    "data1\n",
    "data1.to_csv('./region_4.csv')\n",
    "data1"
   ]
  },
  {
   "cell_type": "code",
   "execution_count": null,
   "metadata": {},
   "outputs": [],
   "source": [
    "data1 = pd.read_csv(\"./region_1.csv\")\n",
    "data2 = pd.read_csv(\"./region_2.csv\")\n",
    "data3 = pd.read_csv(\"./region_3.csv\")\n",
    "data4 = pd.read_csv(\"./region_4.csv\")\n",
    "\n",
    "TSLF = pd.concat([data1, data2, data3, data4], ignore_index = True)\n",
    "TSLF.reset_index(inplace=True,drop=False)\n",
    "TSLF.sort_values(by = ['Fire_Name' , 'Fire_Month' , 'Total_area_burned(ha)'], ascending = True, inplace = True) #arbitrary sort order for TSLFmerge\n",
    "columns_to_drop = ['Unnamed: 0.1' , 'Unnamed: 0' ,\n",
    " 'Event_ID' , 'CO2(kg)' , 'CO(kg)' , 'CH4(kg)' , 'NMOC(kg)' ,\n",
    "  'SO2(kg)' , 'NH3(kg)' , 'NO(kg)' , 'NO2(kg)' , 'NOx(kg)' ,\n",
    "   'PM2.5(kg)' ,'OC(kg)' , 'BC(kg)' , 'Unchanged(ha)' ,\n",
    " 'Grass_Burned(ha)' , 'Moderate_Severity(ha)' , 'Low_Severity(ha)']\n",
    "TSLF.drop(columns = columns_to_drop , inplace = True)\n",
    "TSLF.to_csv('./TSLF.csv')\n",
    "TSLF"
   ]
  }
 ],
 "metadata": {
  "kernelspec": {
   "display_name": "base",
   "language": "python",
   "name": "python3"
  },
  "language_info": {
   "codemirror_mode": {
    "name": "ipython",
    "version": 3
   },
   "file_extension": ".py",
   "mimetype": "text/x-python",
   "name": "python",
   "nbconvert_exporter": "python",
   "pygments_lexer": "ipython3",
   "version": "3.9.13 (main, Aug 25 2022, 23:51:50) [MSC v.1916 64 bit (AMD64)]"
  },
  "orig_nbformat": 4,
  "vscode": {
   "interpreter": {
    "hash": "f506ea6ad3cdd143e00922cd7413cd7a1b83580fe7abf8de8fb11d06ac5448c5"
   }
  }
 },
 "nbformat": 4,
 "nbformat_minor": 2
}
