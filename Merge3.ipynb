{
 "cells": [
  {
   "cell_type": "code",
   "execution_count": 3,
   "metadata": {},
   "outputs": [],
   "source": [
    "import pandas as pd\n",
    "import matplotlib.pyplot as plt\n",
    "import numpy as np\n",
    "import geopandas as gpd\n",
    "\n",
    "T = gpd.read_file(\"./Clean_tree.geojson\" , delim_whitespace = True)\n",
    "B = gpd.read_file(\"./Clean_brush.geojson\" , delim_whitespace = True)\n",
    "F = gpd.read_file(\"./Clean_FP.geojson\" , delim_whitespace = True)\n",
    "#PC runs this cell in 3 min"
   ]
  },
  {
   "attachments": {},
   "cell_type": "markdown",
   "metadata": {},
   "source": [
    "Workaround to reset dataframes without running first cell"
   ]
  },
  {
   "cell_type": "code",
   "execution_count": 4,
   "metadata": {},
   "outputs": [
    {
     "name": "stdout",
     "output_type": "stream",
     "text": [
      "<class 'geopandas.geodataframe.GeoDataFrame'>\n",
      "RangeIndex: 142401 entries, 0 to 142400\n",
      "Data columns (total 6 columns):\n",
      " #   Column     Non-Null Count   Dtype   \n",
      "---  ------     --------------   -----   \n",
      " 0   RPT_YR     142401 non-null  int64   \n",
      " 1   SEVERITY1  142401 non-null  object  \n",
      " 2   TPA_Total  140129 non-null  float64 \n",
      " 3   ACRES      142401 non-null  float64 \n",
      " 4   Date       33738 non-null   object  \n",
      " 5   geometry   142401 non-null  geometry\n",
      "dtypes: float64(2), geometry(1), int64(1), object(2)\n",
      "memory usage: 6.5+ MB\n",
      "<class 'geopandas.geodataframe.GeoDataFrame'>\n",
      "RangeIndex: 14177 entries, 0 to 14176\n",
      "Data columns (total 6 columns):\n",
      " #   Column      Non-Null Count  Dtype              \n",
      "---  ------      --------------  -----              \n",
      " 0   YEAR_       14177 non-null  object             \n",
      " 1   FIRE_NAME   14177 non-null  object             \n",
      " 2   ALARM_DATE  12649 non-null  datetime64[ns, UTC]\n",
      " 3   CAUSE       14163 non-null  float64            \n",
      " 4   GIS_ACRES   14177 non-null  float64            \n",
      " 5   geometry    14177 non-null  geometry           \n",
      "dtypes: datetime64[ns, UTC](1), float64(2), geometry(1), object(2)\n",
      "memory usage: 664.7+ KB\n",
      "<class 'geopandas.geodataframe.GeoDataFrame'>\n",
      "RangeIndex: 14183 entries, 0 to 14182\n",
      "Data columns (total 6 columns):\n",
      " #   Column      Non-Null Count  Dtype              \n",
      "---  ------      --------------  -----              \n",
      " 0   YEAR_       14183 non-null  object             \n",
      " 1   FIRE_NAME   14177 non-null  object             \n",
      " 2   ALARM_DATE  12655 non-null  datetime64[ns, UTC]\n",
      " 3   CAUSE       14169 non-null  float64            \n",
      " 4   GIS_ACRES   14183 non-null  float64            \n",
      " 5   geometry    14183 non-null  geometry           \n",
      "dtypes: datetime64[ns, UTC](1), float64(2), geometry(1), object(2)\n",
      "memory usage: 665.0+ KB\n"
     ]
    }
   ],
   "source": [
    "dataT = T\n",
    "dataB = B\n",
    "dataF = F\n",
    "dataT.info()\n",
    "dataB.info()\n",
    "dataF.info()"
   ]
  }
 ],
 "metadata": {
  "kernelspec": {
   "display_name": "base",
   "language": "python",
   "name": "python3"
  },
  "language_info": {
   "codemirror_mode": {
    "name": "ipython",
    "version": 3
   },
   "file_extension": ".py",
   "mimetype": "text/x-python",
   "name": "python",
   "nbconvert_exporter": "python",
   "pygments_lexer": "ipython3",
   "version": "3.9.13"
  },
  "orig_nbformat": 4,
  "vscode": {
   "interpreter": {
    "hash": "4325e1a0c3d02813449c1007ca689e819e0edc9f1a25cd39f59ee796605c7359"
   }
  }
 },
 "nbformat": 4,
 "nbformat_minor": 2
}
