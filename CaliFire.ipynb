{
 "cells": [
  {
   "attachments": {},
   "cell_type": "markdown",
   "metadata": {},
   "source": [
    "Read the csv file and print columns/current indexing system"
   ]
  },
  {
   "cell_type": "code",
   "execution_count": 53,
   "metadata": {},
   "outputs": [],
   "source": [
    "import pandas as pd\n",
    "import matplotlib.pyplot as plt\n",
    "import numpy as np\n",
    "import geopandas as gpd\n"
   ]
  },
  {
   "cell_type": "code",
   "execution_count": 54,
   "metadata": {},
   "outputs": [
    {
     "data": {
      "text/html": [
       "<div>\n",
       "<style scoped>\n",
       "    .dataframe tbody tr th:only-of-type {\n",
       "        vertical-align: middle;\n",
       "    }\n",
       "\n",
       "    .dataframe tbody tr th {\n",
       "        vertical-align: top;\n",
       "    }\n",
       "\n",
       "    .dataframe thead th {\n",
       "        text-align: right;\n",
       "    }\n",
       "</style>\n",
       "<table border=\"1\" class=\"dataframe\">\n",
       "  <thead>\n",
       "    <tr style=\"text-align: right;\">\n",
       "      <th></th>\n",
       "      <th>minx</th>\n",
       "      <th>miny</th>\n",
       "      <th>maxx</th>\n",
       "      <th>maxy</th>\n",
       "    </tr>\n",
       "  </thead>\n",
       "  <tbody>\n",
       "    <tr>\n",
       "      <th>0</th>\n",
       "      <td>-121.355053</td>\n",
       "      <td>38.886111</td>\n",
       "      <td>-121.340182</td>\n",
       "      <td>38.890483</td>\n",
       "    </tr>\n",
       "    <tr>\n",
       "      <th>1</th>\n",
       "      <td>-121.387760</td>\n",
       "      <td>38.815760</td>\n",
       "      <td>-121.351440</td>\n",
       "      <td>38.837973</td>\n",
       "    </tr>\n",
       "    <tr>\n",
       "      <th>2</th>\n",
       "      <td>-121.338763</td>\n",
       "      <td>38.841889</td>\n",
       "      <td>-121.331724</td>\n",
       "      <td>38.845654</td>\n",
       "    </tr>\n",
       "    <tr>\n",
       "      <th>3</th>\n",
       "      <td>-121.275805</td>\n",
       "      <td>38.960935</td>\n",
       "      <td>-121.270484</td>\n",
       "      <td>38.963583</td>\n",
       "    </tr>\n",
       "    <tr>\n",
       "      <th>4</th>\n",
       "      <td>-121.302509</td>\n",
       "      <td>39.485438</td>\n",
       "      <td>-121.298688</td>\n",
       "      <td>39.487220</td>\n",
       "    </tr>\n",
       "    <tr>\n",
       "      <th>...</th>\n",
       "      <td>...</td>\n",
       "      <td>...</td>\n",
       "      <td>...</td>\n",
       "      <td>...</td>\n",
       "    </tr>\n",
       "    <tr>\n",
       "      <th>16441</th>\n",
       "      <td>-123.009431</td>\n",
       "      <td>40.846979</td>\n",
       "      <td>-123.003523</td>\n",
       "      <td>40.851000</td>\n",
       "    </tr>\n",
       "    <tr>\n",
       "      <th>16442</th>\n",
       "      <td>-119.569164</td>\n",
       "      <td>37.516221</td>\n",
       "      <td>-119.545902</td>\n",
       "      <td>37.529350</td>\n",
       "    </tr>\n",
       "    <tr>\n",
       "      <th>16443</th>\n",
       "      <td>-122.147837</td>\n",
       "      <td>40.401245</td>\n",
       "      <td>-122.136567</td>\n",
       "      <td>40.410473</td>\n",
       "    </tr>\n",
       "    <tr>\n",
       "      <th>16444</th>\n",
       "      <td>-123.056577</td>\n",
       "      <td>40.845771</td>\n",
       "      <td>-123.051105</td>\n",
       "      <td>40.850581</td>\n",
       "    </tr>\n",
       "    <tr>\n",
       "      <th>16445</th>\n",
       "      <td>-120.386143</td>\n",
       "      <td>39.914752</td>\n",
       "      <td>-120.351044</td>\n",
       "      <td>39.928607</td>\n",
       "    </tr>\n",
       "  </tbody>\n",
       "</table>\n",
       "<p>16446 rows × 4 columns</p>\n",
       "</div>"
      ],
      "text/plain": [
       "             minx       miny        maxx       maxy\n",
       "0     -121.355053  38.886111 -121.340182  38.890483\n",
       "1     -121.387760  38.815760 -121.351440  38.837973\n",
       "2     -121.338763  38.841889 -121.331724  38.845654\n",
       "3     -121.275805  38.960935 -121.270484  38.963583\n",
       "4     -121.302509  39.485438 -121.298688  39.487220\n",
       "...           ...        ...         ...        ...\n",
       "16441 -123.009431  40.846979 -123.003523  40.851000\n",
       "16442 -119.569164  37.516221 -119.545902  37.529350\n",
       "16443 -122.147837  40.401245 -122.136567  40.410473\n",
       "16444 -123.056577  40.845771 -123.051105  40.850581\n",
       "16445 -120.386143  39.914752 -120.351044  39.928607\n",
       "\n",
       "[16446 rows x 4 columns]"
      ]
     },
     "execution_count": 54,
     "metadata": {},
     "output_type": "execute_result"
    }
   ],
   "source": [
    "dataG = gpd.read_file(\"./California_Fire_Perimeters_(all).geojson\")\n",
    "dataG = dataG.to_crs(epsg = 4326)\n",
    "dataG.geometry.bounds"
   ]
  },
  {
   "cell_type": "code",
   "execution_count": 56,
   "metadata": {},
   "outputs": [
    {
     "name": "stdout",
     "output_type": "stream",
     "text": [
      "16446\n"
     ]
    },
    {
     "data": {
      "text/plain": [
       "0           NELSON\n",
       "1          AMORUSO\n",
       "2           ATHENS\n",
       "3          FLEMING\n",
       "4         MELANESE\n",
       "           ...    \n",
       "16441         EAST\n",
       "16442         STAR\n",
       "16443    COLEMAN 1\n",
       "16444      DEDRICK\n",
       "16445        DOTTA\n",
       "Name: FIRE_NAME, Length: 16369, dtype: object"
      ]
     },
     "execution_count": 56,
     "metadata": {},
     "output_type": "execute_result"
    }
   ],
   "source": [
    "print(len(dataG))\n",
    "dataG = dataG.loc[dataG[\"YEAR_\"] > \"1949\"]\n",
    "state = dataG[dataG.STATE != \"CA\"]\n",
    "dataG.drop(state.index , inplace = True)\n",
    "dataG = dataG[dataG.YEAR_ != \"\"]\n",
    "dataG.sort_values(by = [\"YEAR_\" , \"ALARM_DATE\"])\n",
    "dataG.FIRE_NAME"
   ]
  }
 ],
 "metadata": {
  "kernelspec": {
   "display_name": "base",
   "language": "python",
   "name": "python3"
  },
  "language_info": {
   "codemirror_mode": {
    "name": "ipython",
    "version": 3
   },
   "file_extension": ".py",
   "mimetype": "text/x-python",
   "name": "python",
   "nbconvert_exporter": "python",
   "pygments_lexer": "ipython3",
   "version": "3.9.13"
  },
  "orig_nbformat": 4,
  "vscode": {
   "interpreter": {
    "hash": "f506ea6ad3cdd143e00922cd7413cd7a1b83580fe7abf8de8fb11d06ac5448c5"
   }
  }
 },
 "nbformat": 4,
 "nbformat_minor": 2
}
