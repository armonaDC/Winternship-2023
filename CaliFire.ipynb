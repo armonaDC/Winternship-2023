{
 "cells": [
  {
   "attachments": {},
   "cell_type": "markdown",
   "metadata": {},
   "source": [
    "Read the csv file and print columns/current indexing system"
   ]
  },
  {
   "cell_type": "code",
   "execution_count": 182,
   "metadata": {},
   "outputs": [
    {
     "name": "stdout",
     "output_type": "stream",
     "text": [
      "Index(['OBJECTID', 'YEAR_', 'STATE', 'AGENCY', 'UNIT_ID', 'FIRE_NAME',\n",
      "       'INC_NUM', 'ALARM_DATE', 'CONT_DATE', 'CAUSE', 'COMMENTS', 'REPORT_AC',\n",
      "       'GIS_ACRES', 'C_METHOD', 'OBJECTIVE', 'FIRE_NUM', 'COMPLEX_NAME',\n",
      "       'COMPLEX_INCNUM', 'SHAPE_Length', 'SHAPE_Area'],\n",
      "      dtype='object')\n",
      "RangeIndex(start=0, stop=21688, step=1)\n"
     ]
    }
   ],
   "source": [
    "import pandas as pd\n",
    "import matplotlib.pyplot as plt\n",
    "\n",
    "data = pd.read_csv(\"./CaliFP.csv\", header=0)\n",
    "print(data.columns)\n",
    "print(data.index)\n"
   ]
  },
  {
   "attachments": {},
   "cell_type": "markdown",
   "metadata": {},
   "source": [
    "Remove fires not in california and before 1950"
   ]
  },
  {
   "cell_type": "code",
   "execution_count": 183,
   "metadata": {},
   "outputs": [
    {
     "name": "stdout",
     "output_type": "stream",
     "text": [
      "entries: 21688\n",
      "entries: 21593\n",
      "entries: 16449\n"
     ]
    }
   ],
   "source": [
    "data.set_index('STATE' , inplace = True) #run entire cell only once after reading from above cell\n",
    "\n",
    "print('entries:', len(data))\n",
    "data.drop(index = 'NV' , axis = 0, inplace = True) \n",
    "data.drop(index = 'OR' , axis = 0, inplace = True) \n",
    "data.drop(index = 'AZ' , axis = 0 , inplace = True)\n",
    "print('entries:', len(data))\n",
    "\n",
    "# data = data[data['STATE'] != 'AZ'] alternate method of cleaning\n",
    "\n",
    "data.reset_index('STATE' , inplace = True)\n",
    "\n",
    "data.set_index('YEAR_' , inplace = True)\n",
    "\n",
    "# F_before_1950 = data[data.index < 1950]\n",
    "# print(F_before_1950)\n",
    "for year in range(1898,1950): #range of known years provided in csv we need removed\n",
    "    if (year in data.index):\n",
    "        data.drop(index = year , axis = 0 , inplace = True)\n",
    "print('entries:', len(data))\n",
    "data.reset_index('YEAR_' , inplace = True)"
   ]
  },
  {
   "attachments": {},
   "cell_type": "markdown",
   "metadata": {},
   "source": [
    "delete entries with missing year"
   ]
  },
  {
   "cell_type": "code",
   "execution_count": 184,
   "metadata": {},
   "outputs": [
    {
     "name": "stdout",
     "output_type": "stream",
     "text": [
      "16449\n",
      "77\n",
      "16372\n"
     ]
    }
   ],
   "source": [
    "print(len(data))\n",
    "print(data['YEAR_'].isna().sum()) #isna() is bool but python is 'ducklike' and can add with .sum()\n",
    "data = data[data['YEAR_'].notna()] #reassigns dataframe to the same datafram with column year with no missing year entries\n",
    "print(len(data))"
   ]
  },
  {
   "attachments": {},
   "cell_type": "markdown",
   "metadata": {},
   "source": [
    "sort dataframe chronologically\n",
    "\n",
    "https://en.wikipedia.org/wiki/List_of_California_wildfires\n",
    "https://frap.fire.ca.gov/mapping/gis-data/\n",
    "URLS to investigate tomorrow, also look into python libraries for working with GIS data"
   ]
  },
  {
   "cell_type": "code",
   "execution_count": null,
   "metadata": {},
   "outputs": [],
   "source": []
  },
  {
   "attachments": {},
   "cell_type": "markdown",
   "metadata": {},
   "source": [
    "look up fires based on location "
   ]
  },
  {
   "cell_type": "code",
   "execution_count": null,
   "metadata": {},
   "outputs": [],
   "source": []
  }
 ],
 "metadata": {
  "kernelspec": {
   "display_name": "base",
   "language": "python",
   "name": "python3"
  },
  "language_info": {
   "codemirror_mode": {
    "name": "ipython",
    "version": 3
   },
   "file_extension": ".py",
   "mimetype": "text/x-python",
   "name": "python",
   "nbconvert_exporter": "python",
   "pygments_lexer": "ipython3",
   "version": "3.9.13"
  },
  "orig_nbformat": 4,
  "vscode": {
   "interpreter": {
    "hash": "345a66549a07742c09a2f711fa627d2ac39f627ff649a3f27bc90b31670cc704"
   }
  }
 },
 "nbformat": 4,
 "nbformat_minor": 2
}
