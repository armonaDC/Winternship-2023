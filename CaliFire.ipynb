{
 "cells": [
  {
   "cell_type": "code",
   "execution_count": 32,
   "metadata": {},
   "outputs": [
    {
     "name": "stdout",
     "output_type": "stream",
     "text": [
      "<class 'geopandas.geodataframe.GeoDataFrame'>\n",
      "RangeIndex: 16446 entries, 0 to 16445\n",
      "Data columns (total 21 columns):\n",
      " #   Column          Non-Null Count  Dtype   \n",
      "---  ------          --------------  -----   \n",
      " 0   OBJECTID        16446 non-null  int64   \n",
      " 1   YEAR_           16446 non-null  object  \n",
      " 2   STATE           16446 non-null  object  \n",
      " 3   AGENCY          16441 non-null  object  \n",
      " 4   UNIT_ID         16429 non-null  object  \n",
      " 5   FIRE_NAME       16435 non-null  object  \n",
      " 6   INC_NUM         16110 non-null  object  \n",
      " 7   ALARM_DATE      14821 non-null  object  \n",
      " 8   CONT_DATE       8942 non-null   object  \n",
      " 9   CAUSE           16422 non-null  float64 \n",
      " 10  COMMENTS        14525 non-null  object  \n",
      " 11  REPORT_AC       8478 non-null   float64 \n",
      " 12  GIS_ACRES       16446 non-null  float64 \n",
      " 13  C_METHOD        9101 non-null   float64 \n",
      " 14  OBJECTIVE       16270 non-null  float64 \n",
      " 15  FIRE_NUM        12620 non-null  object  \n",
      " 16  COMPLEX_NAME    569 non-null    object  \n",
      " 17  COMPLEX_INCNUM  533 non-null    object  \n",
      " 18  SHAPE_Length    16446 non-null  float64 \n",
      " 19  SHAPE_Area      16446 non-null  float64 \n",
      " 20  geometry        16446 non-null  geometry\n",
      "dtypes: float64(7), geometry(1), int64(1), object(12)\n",
      "memory usage: 2.6+ MB\n"
     ]
    }
   ],
   "source": [
    "import pandas as pd\n",
    "import matplotlib.pyplot as plt\n",
    "import numpy as np\n",
    "import geopandas as gpd\n",
    "\n",
    "\n",
    "data = gpd.read_file(\"./CaliFP.geojson\", header=0)\n",
    "data.info() #seeing what the data looks like\n"
   ]
  },
  {
   "attachments": {},
   "cell_type": "markdown",
   "metadata": {},
   "source": [
    "Convert geometry data to coordinates"
   ]
  },
  {
   "cell_type": "code",
   "execution_count": 33,
   "metadata": {},
   "outputs": [
    {
     "data": {
      "text/html": [
       "<div>\n",
       "<style scoped>\n",
       "    .dataframe tbody tr th:only-of-type {\n",
       "        vertical-align: middle;\n",
       "    }\n",
       "\n",
       "    .dataframe tbody tr th {\n",
       "        vertical-align: top;\n",
       "    }\n",
       "\n",
       "    .dataframe thead th {\n",
       "        text-align: right;\n",
       "    }\n",
       "</style>\n",
       "<table border=\"1\" class=\"dataframe\">\n",
       "  <thead>\n",
       "    <tr style=\"text-align: right;\">\n",
       "      <th></th>\n",
       "      <th>minx</th>\n",
       "      <th>miny</th>\n",
       "      <th>maxx</th>\n",
       "      <th>maxy</th>\n",
       "    </tr>\n",
       "  </thead>\n",
       "  <tbody>\n",
       "    <tr>\n",
       "      <th>0</th>\n",
       "      <td>-120.001384</td>\n",
       "      <td>38.016715</td>\n",
       "      <td>-120.001384</td>\n",
       "      <td>38.016715</td>\n",
       "    </tr>\n",
       "    <tr>\n",
       "      <th>1</th>\n",
       "      <td>-120.001384</td>\n",
       "      <td>38.016715</td>\n",
       "      <td>-120.001384</td>\n",
       "      <td>38.016715</td>\n",
       "    </tr>\n",
       "    <tr>\n",
       "      <th>2</th>\n",
       "      <td>-120.001384</td>\n",
       "      <td>38.016715</td>\n",
       "      <td>-120.001384</td>\n",
       "      <td>38.016715</td>\n",
       "    </tr>\n",
       "    <tr>\n",
       "      <th>3</th>\n",
       "      <td>-120.001383</td>\n",
       "      <td>38.016716</td>\n",
       "      <td>-120.001383</td>\n",
       "      <td>38.016716</td>\n",
       "    </tr>\n",
       "    <tr>\n",
       "      <th>4</th>\n",
       "      <td>-120.001383</td>\n",
       "      <td>38.016721</td>\n",
       "      <td>-120.001383</td>\n",
       "      <td>38.016721</td>\n",
       "    </tr>\n",
       "    <tr>\n",
       "      <th>...</th>\n",
       "      <td>...</td>\n",
       "      <td>...</td>\n",
       "      <td>...</td>\n",
       "      <td>...</td>\n",
       "    </tr>\n",
       "    <tr>\n",
       "      <th>16441</th>\n",
       "      <td>-120.001403</td>\n",
       "      <td>38.016733</td>\n",
       "      <td>-120.001403</td>\n",
       "      <td>38.016733</td>\n",
       "    </tr>\n",
       "    <tr>\n",
       "      <th>16442</th>\n",
       "      <td>-120.001364</td>\n",
       "      <td>38.016703</td>\n",
       "      <td>-120.001363</td>\n",
       "      <td>38.016703</td>\n",
       "    </tr>\n",
       "    <tr>\n",
       "      <th>16443</th>\n",
       "      <td>-120.001393</td>\n",
       "      <td>38.016729</td>\n",
       "      <td>-120.001393</td>\n",
       "      <td>38.016729</td>\n",
       "    </tr>\n",
       "    <tr>\n",
       "      <th>16444</th>\n",
       "      <td>-120.001403</td>\n",
       "      <td>38.016733</td>\n",
       "      <td>-120.001403</td>\n",
       "      <td>38.016733</td>\n",
       "    </tr>\n",
       "    <tr>\n",
       "      <th>16445</th>\n",
       "      <td>-120.001373</td>\n",
       "      <td>38.016725</td>\n",
       "      <td>-120.001373</td>\n",
       "      <td>38.016725</td>\n",
       "    </tr>\n",
       "  </tbody>\n",
       "</table>\n",
       "<p>16446 rows × 4 columns</p>\n",
       "</div>"
      ],
      "text/plain": [
       "             minx       miny        maxx       maxy\n",
       "0     -120.001384  38.016715 -120.001384  38.016715\n",
       "1     -120.001384  38.016715 -120.001384  38.016715\n",
       "2     -120.001384  38.016715 -120.001384  38.016715\n",
       "3     -120.001383  38.016716 -120.001383  38.016716\n",
       "4     -120.001383  38.016721 -120.001383  38.016721\n",
       "...           ...        ...         ...        ...\n",
       "16441 -120.001403  38.016733 -120.001403  38.016733\n",
       "16442 -120.001364  38.016703 -120.001363  38.016703\n",
       "16443 -120.001393  38.016729 -120.001393  38.016729\n",
       "16444 -120.001403  38.016733 -120.001403  38.016733\n",
       "16445 -120.001373  38.016725 -120.001373  38.016725\n",
       "\n",
       "[16446 rows x 4 columns]"
      ]
     },
     "execution_count": 33,
     "metadata": {},
     "output_type": "execute_result"
    }
   ],
   "source": [
    "data = data.set_crs(epsg = 3310 , allow_override=True)\n",
    "data = data.to_crs(epsg = 4326)\n",
    "data.geometry.bounds"
   ]
  },
  {
   "attachments": {},
   "cell_type": "markdown",
   "metadata": {},
   "source": [
    "Remove fires not in california, before 1950, and less than 10 acres"
   ]
  },
  {
   "cell_type": "code",
   "execution_count": 34,
   "metadata": {},
   "outputs": [
    {
     "name": "stdout",
     "output_type": "stream",
     "text": [
      "entries: 16446\n",
      "entries: 16369\n",
      "entries: 16369\n",
      "entries: 14183\n"
     ]
    }
   ],
   "source": [
    "data.set_index('STATE' , inplace = True) #run entire cell only once after reading from above cell\n",
    "\n",
    "print('entries:', len(data)) #print how many current entries data frame has\n",
    "data.drop(index = 'NV' , axis = 0, inplace = True) \n",
    "data.drop(index = 'OR' , axis = 0, inplace = True) \n",
    "data.drop(index = 'AZ' , axis = 0 , inplace = True)\n",
    "print('entries:', len(data))\n",
    "\n",
    "# data = data[data['STATE'] != 'AZ'] alternate method of cleaning\n",
    "data.reset_index('STATE' , inplace = True)\n",
    "\n",
    "data = data.loc[data[\"YEAR_\"] > \"1949\"] #loc function allows for sorting without reindexing\n",
    "print('entries:', len(data))\n",
    "data = data.loc[data['GIS_ACRES'] > 10] #reassigns dataframe to the same dataframe w/ acres > 10\n",
    "print('entries:', len(data))"
   ]
  },
  {
   "attachments": {},
   "cell_type": "markdown",
   "metadata": {},
   "source": [
    "All entries have year information"
   ]
  },
  {
   "attachments": {},
   "cell_type": "markdown",
   "metadata": {},
   "source": [
    "sort dataframe chronologically"
   ]
  },
  {
   "cell_type": "code",
   "execution_count": 35,
   "metadata": {},
   "outputs": [
    {
     "name": "stdout",
     "output_type": "stream",
     "text": [
      "14183 RangeIndex(start=0, stop=14183, step=1)\n"
     ]
    },
    {
     "data": {
      "text/plain": [
       "<bound method NDFrame.tail of       YEAR_ STATE  OBJECTID AGENCY UNIT_ID       FIRE_NAME   INC_NUM  \\\n",
       "0      1950    CA     29610    USF     TNF       COLESMILL  00000000   \n",
       "1      1950    CA     25540    CDF     LNU  WALTER TINDELL  00000000   \n",
       "2      1950    CA     30496    CDF     BEU       ECHENIQUE  00000000   \n",
       "3      1950    CA     26337    CDF     BDU           GOCKE  00000000   \n",
       "4      1950    CA     30381    CCO     VNC    DEVILS GULCH  00000000   \n",
       "...     ...   ...       ...    ...     ...             ...       ...   \n",
       "14178  2018    CA     42295    CDF     RRU     SKYLINE LRA  00090869   \n",
       "14179  2019    CA     42763    NPS     MNP            STAR  00013598   \n",
       "14180  2019    CA     42632    USF     HTF        TAMARACK  00030272   \n",
       "14181  2019    CA     42626    USF     TNF          BORDER  00030785   \n",
       "14182  2019    CA     42532    CDF     FKU            YORK  00005720   \n",
       "\n",
       "                      ALARM_DATE                  CONT_DATE  CAUSE  ...  \\\n",
       "0      1950-05-11T00:00:00+00:00  1950-05-29T00:00:00+00:00    5.0  ...   \n",
       "1      1950-05-29T00:00:00+00:00                       None   14.0  ...   \n",
       "2      1950-05-30T00:00:00+00:00                       None   14.0  ...   \n",
       "3      1950-06-01T00:00:00+00:00                       None   14.0  ...   \n",
       "4      1950-06-01T00:00:00+00:00                       None   14.0  ...   \n",
       "...                          ...                        ...    ...  ...   \n",
       "14178                       None                       None   14.0  ...   \n",
       "14179                       None                       None   14.0  ...   \n",
       "14180                       None                       None   14.0  ...   \n",
       "14181                       None                       None   14.0  ...   \n",
       "14182                       None                       None   14.0  ...   \n",
       "\n",
       "      REPORT_AC    GIS_ACRES  C_METHOD  OBJECTIVE  FIRE_NUM COMPLEX_NAME  \\\n",
       "0          34.0    47.682655       NaN        1.0  00000004         None   \n",
       "1           NaN   298.657350       NaN        1.0  00000001         None   \n",
       "2           NaN  2294.044900       NaN        1.0  00000019         None   \n",
       "3           NaN   466.352110       NaN        1.0  00000005         None   \n",
       "4           NaN    24.589411       NaN        1.0  00000000         None   \n",
       "...         ...          ...       ...        ...       ...          ...   \n",
       "14178       NaN   281.622530       2.0        1.0      None         None   \n",
       "14179       NaN    66.587181       8.0        1.0      None         None   \n",
       "14180       NaN    67.217476       1.0        1.0      None         None   \n",
       "14181       NaN    11.514281       8.0        1.0      None         None   \n",
       "14182       NaN   160.912430       1.0        1.0      None         None   \n",
       "\n",
       "      COMPLEX_INCNUM SHAPE_Length  SHAPE_Area  \\\n",
       "0               None     0.017463    0.000020   \n",
       "1               None     0.050167    0.000126   \n",
       "2               None     0.231835    0.000929   \n",
       "3               None     0.080145    0.000184   \n",
       "4               None     0.011474    0.000010   \n",
       "...              ...          ...         ...   \n",
       "14178           None     0.061140    0.000111   \n",
       "14179           None     0.040108    0.000027   \n",
       "14180           None     0.025183    0.000028   \n",
       "14181           None     0.010947    0.000005   \n",
       "14182           None     0.056639    0.000065   \n",
       "\n",
       "                                                geometry  \n",
       "0      MULTIPOLYGON (((-120.00138 38.01672, -120.0013...  \n",
       "1      MULTIPOLYGON (((-120.00139 38.01672, -120.0013...  \n",
       "2      MULTIPOLYGON (((-120.00138 38.01669, -120.0013...  \n",
       "3      MULTIPOLYGON (((-120.00133 38.01667, -120.0013...  \n",
       "4      MULTIPOLYGON (((-120.00136 38.01667, -120.0013...  \n",
       "...                                                  ...  \n",
       "14178  MULTIPOLYGON (((-120.00134 38.01667, -120.0013...  \n",
       "14179  MULTIPOLYGON (((-120.00132 38.01668, -120.0013...  \n",
       "14180  MULTIPOLYGON (((-120.00136 38.01671, -120.0013...  \n",
       "14181  MULTIPOLYGON (((-120.00137 38.01672, -120.0013...  \n",
       "14182  MULTIPOLYGON (((-120.00137 38.01669, -120.0013...  \n",
       "\n",
       "[14183 rows x 21 columns]>"
      ]
     },
     "execution_count": 35,
     "metadata": {},
     "output_type": "execute_result"
    }
   ],
   "source": [
    "data.set_index('YEAR_' , inplace = True)\n",
    "data.sort_values(by = 'YEAR_' , ascending = True , inplace = True) #sort by year first, then sort by ALARM_DATE\n",
    "data.reset_index('YEAR_' , inplace = True)\n",
    "\n",
    "data['datetime'] = pd.to_datetime(data['ALARM_DATE'] , errors = 'coerce') #create new datetime column\n",
    "data.set_index('datetime' , inplace = True) #set new column to index\n",
    "data.sort_values(by='datetime', ascending = True, inplace = True) #sort values\n",
    "data.reset_index('datetime' , inplace = True) #reset index to numbered list\n",
    "data.drop('datetime' , axis = 1 , inplace = True) #delete the datetime column\n",
    "\n",
    "print(len(data) , data.index)\n",
    "data.tail"
   ]
  },
  {
   "attachments": {},
   "cell_type": "markdown",
   "metadata": {},
   "source": [
    "We now want to drop the majority of columns in order to focus on location and time data."
   ]
  },
  {
   "cell_type": "code",
   "execution_count": 36,
   "metadata": {},
   "outputs": [
    {
     "name": "stdout",
     "output_type": "stream",
     "text": [
      "<class 'geopandas.geodataframe.GeoDataFrame'>\n",
      "RangeIndex: 14183 entries, 0 to 14182\n",
      "Data columns (total 6 columns):\n",
      " #   Column      Non-Null Count  Dtype   \n",
      "---  ------      --------------  -----   \n",
      " 0   YEAR_       14183 non-null  object  \n",
      " 1   FIRE_NAME   14177 non-null  object  \n",
      " 2   ALARM_DATE  12655 non-null  object  \n",
      " 3   CAUSE       14169 non-null  float64 \n",
      " 4   GIS_ACRES   14183 non-null  float64 \n",
      " 5   geometry    14183 non-null  geometry\n",
      "dtypes: float64(2), geometry(1), object(3)\n",
      "memory usage: 665.0+ KB\n"
     ]
    }
   ],
   "source": [
    "columns_to_drop = ['STATE', 'OBJECTID',  'AGENCY', 'UNIT_ID',\n",
    "       'INC_NUM',  'CONT_DATE', 'COMMENTS', 'REPORT_AC',\n",
    "        'C_METHOD', 'OBJECTIVE', 'FIRE_NUM', 'COMPLEX_NAME',\n",
    "       'COMPLEX_INCNUM', 'SHAPE_Length', 'SHAPE_Area']\n",
    "data.drop(columns_to_drop , axis = 1 , inplace = True)\n",
    "data.info()"
   ]
  },
  {
   "attachments": {},
   "cell_type": "markdown",
   "metadata": {},
   "source": [
    "Export cleaned data to a .geojson"
   ]
  },
  {
   "cell_type": "code",
   "execution_count": 37,
   "metadata": {},
   "outputs": [],
   "source": [
    "data.to_file('Clean_FP.geojson', driver = 'GeoJSON' , encoding = 'utf-8')"
   ]
  }
 ],
 "metadata": {
  "kernelspec": {
   "display_name": "base",
   "language": "python",
   "name": "python3"
  },
  "language_info": {
   "codemirror_mode": {
    "name": "ipython",
    "version": 3
   },
   "file_extension": ".py",
   "mimetype": "text/x-python",
   "name": "python",
   "nbconvert_exporter": "python",
   "pygments_lexer": "ipython3",
   "version": "3.9.13"
  },
  "orig_nbformat": 4,
  "vscode": {
   "interpreter": {
    "hash": "4325e1a0c3d02813449c1007ca689e819e0edc9f1a25cd39f59ee796605c7359"
   }
  }
 },
 "nbformat": 4,
 "nbformat_minor": 2
}
