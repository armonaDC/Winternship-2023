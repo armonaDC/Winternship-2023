{
 "cells": [
  {
   "cell_type": "code",
   "execution_count": 7,
   "metadata": {},
   "outputs": [
    {
     "name": "stdout",
     "output_type": "stream",
     "text": [
      "<class 'geopandas.geodataframe.GeoDataFrame'>\n",
      "RangeIndex: 16446 entries, 0 to 16445\n",
      "Data columns (total 21 columns):\n",
      " #   Column          Non-Null Count  Dtype   \n",
      "---  ------          --------------  -----   \n",
      " 0   OBJECTID        16446 non-null  int64   \n",
      " 1   YEAR_           16446 non-null  object  \n",
      " 2   STATE           16446 non-null  object  \n",
      " 3   AGENCY          16441 non-null  object  \n",
      " 4   UNIT_ID         16429 non-null  object  \n",
      " 5   FIRE_NAME       16435 non-null  object  \n",
      " 6   INC_NUM         16110 non-null  object  \n",
      " 7   ALARM_DATE      14821 non-null  object  \n",
      " 8   CONT_DATE       8942 non-null   object  \n",
      " 9   CAUSE           16422 non-null  float64 \n",
      " 10  COMMENTS        14525 non-null  object  \n",
      " 11  REPORT_AC       8478 non-null   float64 \n",
      " 12  GIS_ACRES       16446 non-null  float64 \n",
      " 13  C_METHOD        9101 non-null   float64 \n",
      " 14  OBJECTIVE       16270 non-null  float64 \n",
      " 15  FIRE_NUM        12620 non-null  object  \n",
      " 16  COMPLEX_NAME    569 non-null    object  \n",
      " 17  COMPLEX_INCNUM  533 non-null    object  \n",
      " 18  SHAPE_Length    16446 non-null  float64 \n",
      " 19  SHAPE_Area      16446 non-null  float64 \n",
      " 20  geometry        16446 non-null  geometry\n",
      "dtypes: float64(7), geometry(1), int64(1), object(12)\n",
      "memory usage: 2.6+ MB\n"
     ]
    }
   ],
   "source": [
    "import pandas as pd\n",
    "import matplotlib.pyplot as plt\n",
    "import numpy as np\n",
    "import geopandas as gpd\n",
    "\n",
    "\n",
    "data = gpd.read_file(\"./CaliFP.geojson\", header=0)\n",
    "data.info() #seeing what the data looks like\n"
   ]
  },
  {
   "attachments": {},
   "cell_type": "markdown",
   "metadata": {},
   "source": [
    "Convert geometry data to coordinates"
   ]
  },
  {
   "cell_type": "code",
   "execution_count": 8,
   "metadata": {},
   "outputs": [
    {
     "data": {
      "text/html": [
       "<div>\n",
       "<style scoped>\n",
       "    .dataframe tbody tr th:only-of-type {\n",
       "        vertical-align: middle;\n",
       "    }\n",
       "\n",
       "    .dataframe tbody tr th {\n",
       "        vertical-align: top;\n",
       "    }\n",
       "\n",
       "    .dataframe thead th {\n",
       "        text-align: right;\n",
       "    }\n",
       "</style>\n",
       "<table border=\"1\" class=\"dataframe\">\n",
       "  <thead>\n",
       "    <tr style=\"text-align: right;\">\n",
       "      <th></th>\n",
       "      <th>minx</th>\n",
       "      <th>miny</th>\n",
       "      <th>maxx</th>\n",
       "      <th>maxy</th>\n",
       "    </tr>\n",
       "  </thead>\n",
       "  <tbody>\n",
       "    <tr>\n",
       "      <th>0</th>\n",
       "      <td>-120.001384</td>\n",
       "      <td>38.016715</td>\n",
       "      <td>-120.001384</td>\n",
       "      <td>38.016715</td>\n",
       "    </tr>\n",
       "    <tr>\n",
       "      <th>1</th>\n",
       "      <td>-120.001384</td>\n",
       "      <td>38.016715</td>\n",
       "      <td>-120.001384</td>\n",
       "      <td>38.016715</td>\n",
       "    </tr>\n",
       "    <tr>\n",
       "      <th>2</th>\n",
       "      <td>-120.001384</td>\n",
       "      <td>38.016715</td>\n",
       "      <td>-120.001384</td>\n",
       "      <td>38.016715</td>\n",
       "    </tr>\n",
       "    <tr>\n",
       "      <th>3</th>\n",
       "      <td>-120.001383</td>\n",
       "      <td>38.016716</td>\n",
       "      <td>-120.001383</td>\n",
       "      <td>38.016716</td>\n",
       "    </tr>\n",
       "    <tr>\n",
       "      <th>4</th>\n",
       "      <td>-120.001383</td>\n",
       "      <td>38.016721</td>\n",
       "      <td>-120.001383</td>\n",
       "      <td>38.016721</td>\n",
       "    </tr>\n",
       "    <tr>\n",
       "      <th>...</th>\n",
       "      <td>...</td>\n",
       "      <td>...</td>\n",
       "      <td>...</td>\n",
       "      <td>...</td>\n",
       "    </tr>\n",
       "    <tr>\n",
       "      <th>16441</th>\n",
       "      <td>-120.001403</td>\n",
       "      <td>38.016733</td>\n",
       "      <td>-120.001403</td>\n",
       "      <td>38.016733</td>\n",
       "    </tr>\n",
       "    <tr>\n",
       "      <th>16442</th>\n",
       "      <td>-120.001364</td>\n",
       "      <td>38.016703</td>\n",
       "      <td>-120.001363</td>\n",
       "      <td>38.016703</td>\n",
       "    </tr>\n",
       "    <tr>\n",
       "      <th>16443</th>\n",
       "      <td>-120.001393</td>\n",
       "      <td>38.016729</td>\n",
       "      <td>-120.001393</td>\n",
       "      <td>38.016729</td>\n",
       "    </tr>\n",
       "    <tr>\n",
       "      <th>16444</th>\n",
       "      <td>-120.001403</td>\n",
       "      <td>38.016733</td>\n",
       "      <td>-120.001403</td>\n",
       "      <td>38.016733</td>\n",
       "    </tr>\n",
       "    <tr>\n",
       "      <th>16445</th>\n",
       "      <td>-120.001373</td>\n",
       "      <td>38.016725</td>\n",
       "      <td>-120.001373</td>\n",
       "      <td>38.016725</td>\n",
       "    </tr>\n",
       "  </tbody>\n",
       "</table>\n",
       "<p>16446 rows × 4 columns</p>\n",
       "</div>"
      ],
      "text/plain": [
       "             minx       miny        maxx       maxy\n",
       "0     -120.001384  38.016715 -120.001384  38.016715\n",
       "1     -120.001384  38.016715 -120.001384  38.016715\n",
       "2     -120.001384  38.016715 -120.001384  38.016715\n",
       "3     -120.001383  38.016716 -120.001383  38.016716\n",
       "4     -120.001383  38.016721 -120.001383  38.016721\n",
       "...           ...        ...         ...        ...\n",
       "16441 -120.001403  38.016733 -120.001403  38.016733\n",
       "16442 -120.001364  38.016703 -120.001363  38.016703\n",
       "16443 -120.001393  38.016729 -120.001393  38.016729\n",
       "16444 -120.001403  38.016733 -120.001403  38.016733\n",
       "16445 -120.001373  38.016725 -120.001373  38.016725\n",
       "\n",
       "[16446 rows x 4 columns]"
      ]
     },
     "execution_count": 8,
     "metadata": {},
     "output_type": "execute_result"
    }
   ],
   "source": [
    "data = data.set_crs(epsg = 3310 , allow_override=True)\n",
    "data = data.to_crs(epsg = 4326)\n",
    "data.geometry.bounds"
   ]
  },
  {
   "attachments": {},
   "cell_type": "markdown",
   "metadata": {},
   "source": [
    "Remove fires not in california, before 1950, and less than 1000 acres"
   ]
  },
  {
   "cell_type": "code",
   "execution_count": 9,
   "metadata": {},
   "outputs": [
    {
     "name": "stdout",
     "output_type": "stream",
     "text": [
      "entries: 16446\n",
      "entries: 16369\n",
      "entries: 16369\n",
      "entries: 2889\n"
     ]
    }
   ],
   "source": [
    "data.set_index('STATE' , inplace = True) #run entire cell only once after reading from above cell\n",
    "\n",
    "print('entries:', len(data)) #print how many current entries data frame has\n",
    "data.drop(index = 'NV' , axis = 0, inplace = True) \n",
    "data.drop(index = 'OR' , axis = 0, inplace = True) \n",
    "data.drop(index = 'AZ' , axis = 0 , inplace = True)\n",
    "print('entries:', len(data))\n",
    "\n",
    "# data = data[data['STATE'] != 'AZ'] alternate method of cleaning\n",
    "data.reset_index('STATE' , inplace = True)\n",
    "\n",
    "data = data.loc[data[\"YEAR_\"] > \"1949\"] #loc function allows for sorting without reindexing\n",
    "print('entries:', len(data))\n",
    "data = data.loc[data['GIS_ACRES'] > 1000] #reassigns dataframe to the same dataframe w/ acres > 10\n",
    "print('entries:', len(data))"
   ]
  },
  {
   "attachments": {},
   "cell_type": "markdown",
   "metadata": {},
   "source": [
    "All entries have year information"
   ]
  },
  {
   "attachments": {},
   "cell_type": "markdown",
   "metadata": {},
   "source": [
    "sort dataframe chronologically"
   ]
  },
  {
   "cell_type": "code",
   "execution_count": 10,
   "metadata": {},
   "outputs": [
    {
     "name": "stdout",
     "output_type": "stream",
     "text": [
      "2889 RangeIndex(start=0, stop=2889, step=1)\n"
     ]
    },
    {
     "data": {
      "text/plain": [
       "<bound method NDFrame.tail of      YEAR_ STATE  OBJECTID AGENCY UNIT_ID      FIRE_NAME   INC_NUM  \\\n",
       "0     1950    CA     30496    CDF     BEU      ECHENIQUE  00000000   \n",
       "1     1950    CA     22537    CDF     LMU  BAGGETT GULCH  00000000   \n",
       "2     1950    CA     30378    CDF     MVU        BARRETT  00000000   \n",
       "3     1950    CA     26332    CDF     BDU     NORTH FORK  00000000   \n",
       "4     1950    CA     23893    CDF     RRU         RAWSON  00000000   \n",
       "...    ...   ...       ...    ...     ...            ...       ...   \n",
       "2884  2001    CA     40357    NPS     YNP         HOOVER  00001965   \n",
       "2885  2003    CA     31308    USF     CNF                     None   \n",
       "2886  2008    CA     38377    CDF     FKU        AVOCADO  00005639   \n",
       "2887  2016    CA     34642    DOD     AFV         CANYON      None   \n",
       "2888  2016    CA     34644    DOD     MCP         ROBLAR      None   \n",
       "\n",
       "                     ALARM_DATE                  CONT_DATE  CAUSE  ...  \\\n",
       "0     1950-05-30T00:00:00+00:00                       None   14.0  ...   \n",
       "1     1950-06-02T00:00:00+00:00                       None    9.0  ...   \n",
       "2     1950-06-10T00:00:00+00:00                       None   14.0  ...   \n",
       "3     1950-06-30T00:00:00+00:00                       None   14.0  ...   \n",
       "4     1950-06-30T00:00:00+00:00                       None   14.0  ...   \n",
       "...                         ...                        ...    ...  ...   \n",
       "2884                       None                       None    1.0  ...   \n",
       "2885                       None                       None   14.0  ...   \n",
       "2886                       None                       None   11.0  ...   \n",
       "2887                       None  2016-09-28T00:00:00+00:00   14.0  ...   \n",
       "2888                       None  2016-07-25T00:00:00+00:00   14.0  ...   \n",
       "\n",
       "     REPORT_AC   GIS_ACRES  C_METHOD  OBJECTIVE  FIRE_NUM COMPLEX_NAME  \\\n",
       "0          NaN   2294.0449       NaN        1.0  00000019         None   \n",
       "1          NaN   3941.2673       NaN        1.0  00000001         None   \n",
       "2          NaN   1632.4508       NaN        1.0  00000305         None   \n",
       "3          NaN  13187.9570       NaN        1.0  00000330         None   \n",
       "4          NaN   3537.7358       NaN        1.0  00000422         None   \n",
       "...        ...         ...       ...        ...       ...          ...   \n",
       "2884    7233.0   7230.6235       7.0        2.0  00001965         None   \n",
       "2885    2714.0   2713.9380       8.0        NaN      None         None   \n",
       "2886    1200.0   1175.1963       1.0        1.0      None         None   \n",
       "2887       NaN  12713.6220       8.0        1.0      None         None   \n",
       "2888       NaN   1244.5000       8.0        1.0      None         None   \n",
       "\n",
       "     COMPLEX_INCNUM SHAPE_Length  SHAPE_Area  \\\n",
       "0              None     0.231835    0.000929   \n",
       "1              None     0.195277    0.001716   \n",
       "2              None     0.183487    0.000636   \n",
       "3              None     0.640394    0.005213   \n",
       "4              None     0.177383    0.001390   \n",
       "...             ...          ...         ...   \n",
       "2884           None     1.099154    0.002988   \n",
       "2885           None     0.138665    0.001064   \n",
       "2886           None     0.128542    0.000480   \n",
       "2887           None     0.419410    0.005056   \n",
       "2888           None     0.163725    0.000488   \n",
       "\n",
       "                                               geometry  \n",
       "0     MULTIPOLYGON (((-120.00138 38.01669, -120.0013...  \n",
       "1     MULTIPOLYGON (((-120.00138 38.01674, -120.0013...  \n",
       "2     MULTIPOLYGON (((-120.00133 38.01666, -120.0013...  \n",
       "3     MULTIPOLYGON (((-120.00133 38.01667, -120.0013...  \n",
       "4     MULTIPOLYGON (((-120.00133 38.01667, -120.0013...  \n",
       "...                                                 ...  \n",
       "2884  MULTIPOLYGON (((-120.00136 38.01670, -120.0013...  \n",
       "2885  MULTIPOLYGON (((-120.00133 38.01667, -120.0013...  \n",
       "2886  MULTIPOLYGON (((-120.00136 38.01670, -120.0013...  \n",
       "2887  MULTIPOLYGON (((-120.00137 38.01668, -120.0013...  \n",
       "2888  MULTIPOLYGON (((-120.00134 38.01667, -120.0013...  \n",
       "\n",
       "[2889 rows x 21 columns]>"
      ]
     },
     "execution_count": 10,
     "metadata": {},
     "output_type": "execute_result"
    }
   ],
   "source": [
    "data.set_index('YEAR_' , inplace = True)\n",
    "data.sort_values(by = 'YEAR_' , ascending = True , inplace = True) #sort by year first, then sort by ALARM_DATE\n",
    "data.reset_index('YEAR_' , inplace = True)\n",
    "\n",
    "data['datetime'] = pd.to_datetime(data['ALARM_DATE'] , errors = 'coerce') #create new datetime column\n",
    "data.set_index('datetime' , inplace = True) #set new column to index\n",
    "data.sort_values(by='datetime', ascending = True, inplace = True) #sort values\n",
    "data.reset_index('datetime' , inplace = True) #reset index to numbered list\n",
    "data.drop('datetime' , axis = 1 , inplace = True) #delete the datetime column\n",
    "\n",
    "print(len(data) , data.index)\n",
    "data.tail"
   ]
  },
  {
   "attachments": {},
   "cell_type": "markdown",
   "metadata": {},
   "source": [
    "We now want to drop the majority of columns in order to focus on location and time data."
   ]
  },
  {
   "cell_type": "code",
   "execution_count": 11,
   "metadata": {},
   "outputs": [
    {
     "name": "stdout",
     "output_type": "stream",
     "text": [
      "<class 'geopandas.geodataframe.GeoDataFrame'>\n",
      "RangeIndex: 2889 entries, 0 to 2888\n",
      "Data columns (total 6 columns):\n",
      " #   Column      Non-Null Count  Dtype   \n",
      "---  ------      --------------  -----   \n",
      " 0   YEAR_       2889 non-null   object  \n",
      " 1   FIRE_NAME   2889 non-null   object  \n",
      " 2   ALARM_DATE  2651 non-null   object  \n",
      " 3   CAUSE       2887 non-null   float64 \n",
      " 4   GIS_ACRES   2889 non-null   float64 \n",
      " 5   geometry    2889 non-null   geometry\n",
      "dtypes: float64(2), geometry(1), object(3)\n",
      "memory usage: 135.5+ KB\n"
     ]
    }
   ],
   "source": [
    "columns_to_drop = ['STATE', 'OBJECTID',  'AGENCY', 'UNIT_ID',\n",
    "       'INC_NUM',  'CONT_DATE', 'COMMENTS', 'REPORT_AC',\n",
    "        'C_METHOD', 'OBJECTIVE', 'FIRE_NUM', 'COMPLEX_NAME',\n",
    "       'COMPLEX_INCNUM', 'SHAPE_Length', 'SHAPE_Area']\n",
    "data.drop(columns_to_drop , axis = 1 , inplace = True)\n",
    "data.info()"
   ]
  },
  {
   "attachments": {},
   "cell_type": "markdown",
   "metadata": {},
   "source": [
    "Export cleaned data to a .geojson"
   ]
  },
  {
   "cell_type": "code",
   "execution_count": 12,
   "metadata": {},
   "outputs": [],
   "source": [
    "data.to_file('Clean_FP.geojson', driver = 'GeoJSON' , encoding = 'utf-8')"
   ]
  }
 ],
 "metadata": {
  "kernelspec": {
   "display_name": "base",
   "language": "python",
   "name": "python3"
  },
  "language_info": {
   "codemirror_mode": {
    "name": "ipython",
    "version": 3
   },
   "file_extension": ".py",
   "mimetype": "text/x-python",
   "name": "python",
   "nbconvert_exporter": "python",
   "pygments_lexer": "ipython3",
   "version": "3.9.13"
  },
  "orig_nbformat": 4,
  "vscode": {
   "interpreter": {
    "hash": "f506ea6ad3cdd143e00922cd7413cd7a1b83580fe7abf8de8fb11d06ac5448c5"
   }
  }
 },
 "nbformat": 4,
 "nbformat_minor": 2
}
