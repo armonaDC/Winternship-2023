{
 "cells": [
  {
   "cell_type": "code",
   "execution_count": 3,
   "metadata": {},
   "outputs": [
    {
     "name": "stdout",
     "output_type": "stream",
     "text": [
      "Requirement already satisfied: geopandas in /media/aperture/writable/anaconda/lib/python3.9/site-packages (0.12.2)\n",
      "Requirement already satisfied: pyproj>=2.6.1.post1 in /media/aperture/writable/anaconda/lib/python3.9/site-packages (from geopandas) (3.4.1)\n",
      "Requirement already satisfied: fiona>=1.8 in /media/aperture/writable/anaconda/lib/python3.9/site-packages (from geopandas) (1.8.22)\n",
      "Requirement already satisfied: shapely>=1.7 in /media/aperture/writable/anaconda/lib/python3.9/site-packages (from geopandas) (2.0.0)\n",
      "Requirement already satisfied: packaging in /media/aperture/writable/anaconda/lib/python3.9/site-packages (from geopandas) (21.3)\n",
      "Requirement already satisfied: pandas>=1.0.0 in /media/aperture/writable/anaconda/lib/python3.9/site-packages (from geopandas) (1.4.4)\n",
      "Requirement already satisfied: click>=4.0 in /media/aperture/writable/anaconda/lib/python3.9/site-packages (from fiona>=1.8->geopandas) (8.0.4)\n",
      "Requirement already satisfied: cligj>=0.5 in /media/aperture/writable/anaconda/lib/python3.9/site-packages (from fiona>=1.8->geopandas) (0.7.2)\n",
      "Requirement already satisfied: munch in /media/aperture/writable/anaconda/lib/python3.9/site-packages (from fiona>=1.8->geopandas) (2.5.0)\n",
      "Requirement already satisfied: certifi in /media/aperture/writable/anaconda/lib/python3.9/site-packages (from fiona>=1.8->geopandas) (2022.9.14)\n",
      "Requirement already satisfied: setuptools in /media/aperture/writable/anaconda/lib/python3.9/site-packages (from fiona>=1.8->geopandas) (63.4.1)\n",
      "Requirement already satisfied: attrs>=17 in /media/aperture/writable/anaconda/lib/python3.9/site-packages (from fiona>=1.8->geopandas) (21.4.0)\n",
      "Requirement already satisfied: six>=1.7 in /media/aperture/writable/anaconda/lib/python3.9/site-packages (from fiona>=1.8->geopandas) (1.16.0)\n",
      "Requirement already satisfied: click-plugins>=1.0 in /media/aperture/writable/anaconda/lib/python3.9/site-packages (from fiona>=1.8->geopandas) (1.1.1)\n",
      "Requirement already satisfied: python-dateutil>=2.8.1 in /media/aperture/writable/anaconda/lib/python3.9/site-packages (from pandas>=1.0.0->geopandas) (2.8.2)\n",
      "Requirement already satisfied: pytz>=2020.1 in /media/aperture/writable/anaconda/lib/python3.9/site-packages (from pandas>=1.0.0->geopandas) (2022.1)\n",
      "Requirement already satisfied: numpy>=1.18.5 in /media/aperture/writable/anaconda/lib/python3.9/site-packages (from pandas>=1.0.0->geopandas) (1.21.5)\n",
      "Requirement already satisfied: pyparsing!=3.0.5,>=2.0.2 in /media/aperture/writable/anaconda/lib/python3.9/site-packages (from packaging->geopandas) (3.0.9)\n",
      "Note: you may need to restart the kernel to use updated packages.\n"
     ]
    }
   ],
   "source": [
    "%pip install geopandas"
   ]
  },
  {
   "cell_type": "code",
   "execution_count": null,
   "metadata": {},
   "outputs": [],
   "source": [
    "import pandas as pd\n",
    "import matplotlib.pyplot as plt\n",
    "import numpy as np\n",
    "import geopandas as gpd\n",
    "\n",
    "Tdata = gpd.read_file('./ds2783.gdb/')\n"
   ]
  }
 ],
 "metadata": {
  "kernelspec": {
   "display_name": "base",
   "language": "python",
   "name": "python3"
  },
  "language_info": {
   "codemirror_mode": {
    "name": "ipython",
    "version": 3
   },
   "file_extension": ".py",
   "mimetype": "text/x-python",
   "name": "python",
   "nbconvert_exporter": "python",
   "pygments_lexer": "ipython3",
   "version": "3.9.13"
  },
  "orig_nbformat": 4,
  "vscode": {
   "interpreter": {
    "hash": "345a66549a07742c09a2f711fa627d2ac39f627ff649a3f27bc90b31670cc704"
   }
  }
 },
 "nbformat": 4,
 "nbformat_minor": 2
}
