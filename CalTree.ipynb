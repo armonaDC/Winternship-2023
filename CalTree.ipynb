{
 "cells": [
  {
   "cell_type": "code",
   "execution_count": 6,
   "metadata": {},
   "outputs": [
    {
     "name": "stdout",
     "output_type": "stream",
     "text": [
      "<class 'geopandas.geodataframe.GeoDataFrame'>\n",
      "RangeIndex: 443421 entries, 0 to 443420\n",
      "Data columns (total 40 columns):\n",
      " #   Column          Non-Null Count   Dtype   \n",
      "---  ------          --------------   -----   \n",
      " 0   RPT_YR          443421 non-null  int64   \n",
      " 1   SURVEY_ID1      376258 non-null  object  \n",
      " 2   SURVEY_ID2      375963 non-null  object  \n",
      " 3   SURVEY_ID3      370896 non-null  object  \n",
      " 4   DMG_TYPE1       443322 non-null  object  \n",
      " 5   DMG_TYPE2       375142 non-null  object  \n",
      " 6   DMG_TYPE3       374119 non-null  object  \n",
      " 7   SEVERITY1       401858 non-null  object  \n",
      " 8   SEVERITY2       375072 non-null  object  \n",
      " 9   SEVERITY3       374012 non-null  object  \n",
      " 10  PATTERN1        61754 non-null   object  \n",
      " 11  PATTERN2        300 non-null     object  \n",
      " 12  PATTERN3        31 non-null      object  \n",
      " 13  TPA1            419113 non-null  float64 \n",
      " 14  TPA2            376731 non-null  float64 \n",
      " 15  TPA3            375771 non-null  float64 \n",
      " 16  TPA_Total       440324 non-null  float64 \n",
      " 17  NO_TREES1       442025 non-null  float64 \n",
      " 18  NO_TREES2       376906 non-null  float64 \n",
      " 19  NO_TREES3       375771 non-null  float64 \n",
      " 20  NO_TREES_TOTAL  419823 non-null  float64 \n",
      " 21  DCA1            443307 non-null  object  \n",
      " 22  DCA2            351894 non-null  object  \n",
      " 23  DCA3            345157 non-null  object  \n",
      " 24  HOST1           336479 non-null  object  \n",
      " 25  HOST2           22620 non-null   object  \n",
      " 26  HOST3           5437 non-null    object  \n",
      " 27  FOR_TYPE1       388191 non-null  object  \n",
      " 28  FOR_TYPE2       15089 non-null   object  \n",
      " 29  FOR_TYPE3       21003 non-null   object  \n",
      " 30  ACRES           443421 non-null  float64 \n",
      " 31  NOTES           376903 non-null  object  \n",
      " 32  no_years        372584 non-null  float64 \n",
      " 33  Date            81386 non-null   object  \n",
      " 34  ADS_ID          107797 non-null  object  \n",
      " 35  Shape_Length0   443421 non-null  float64 \n",
      " 36  Shape_Area0     443421 non-null  float64 \n",
      " 37  Shape_Length    443421 non-null  float64 \n",
      " 38  Shape_Area      443421 non-null  float64 \n",
      " 39  geometry        443421 non-null  geometry\n",
      "dtypes: float64(14), geometry(1), int64(1), object(24)\n",
      "memory usage: 135.3+ MB\n"
     ]
    }
   ],
   "source": [
    "import pandas as pd\n",
    "import matplotlib.pyplot as plt\n",
    "import numpy as np\n",
    "import geopandas as gpd\n",
    "#data from 1973 - 2019\n",
    "data = gpd.read_file('./ds2783.gdb/' , delim_whitespace = True)\n",
    "data.info() #see what our data looks like"
   ]
  },
  {
   "attachments": {},
   "cell_type": "markdown",
   "metadata": {},
   "source": [
    "Convert Geometry data to coordinates"
   ]
  },
  {
   "cell_type": "code",
   "execution_count": 7,
   "metadata": {},
   "outputs": [
    {
     "data": {
      "text/html": [
       "<div>\n",
       "<style scoped>\n",
       "    .dataframe tbody tr th:only-of-type {\n",
       "        vertical-align: middle;\n",
       "    }\n",
       "\n",
       "    .dataframe tbody tr th {\n",
       "        vertical-align: top;\n",
       "    }\n",
       "\n",
       "    .dataframe thead th {\n",
       "        text-align: right;\n",
       "    }\n",
       "</style>\n",
       "<table border=\"1\" class=\"dataframe\">\n",
       "  <thead>\n",
       "    <tr style=\"text-align: right;\">\n",
       "      <th></th>\n",
       "      <th>minx</th>\n",
       "      <th>miny</th>\n",
       "      <th>maxx</th>\n",
       "      <th>maxy</th>\n",
       "    </tr>\n",
       "  </thead>\n",
       "  <tbody>\n",
       "    <tr>\n",
       "      <th>0</th>\n",
       "      <td>-117.633502</td>\n",
       "      <td>34.349113</td>\n",
       "      <td>-117.622626</td>\n",
       "      <td>34.355126</td>\n",
       "    </tr>\n",
       "    <tr>\n",
       "      <th>1</th>\n",
       "      <td>-117.707462</td>\n",
       "      <td>34.249876</td>\n",
       "      <td>-117.625757</td>\n",
       "      <td>34.327159</td>\n",
       "    </tr>\n",
       "    <tr>\n",
       "      <th>2</th>\n",
       "      <td>-117.969443</td>\n",
       "      <td>34.362519</td>\n",
       "      <td>-117.968780</td>\n",
       "      <td>34.363069</td>\n",
       "    </tr>\n",
       "    <tr>\n",
       "      <th>3</th>\n",
       "      <td>-117.748593</td>\n",
       "      <td>34.363877</td>\n",
       "      <td>-117.747930</td>\n",
       "      <td>34.364427</td>\n",
       "    </tr>\n",
       "    <tr>\n",
       "      <th>4</th>\n",
       "      <td>-118.210098</td>\n",
       "      <td>34.359959</td>\n",
       "      <td>-118.209435</td>\n",
       "      <td>34.360507</td>\n",
       "    </tr>\n",
       "    <tr>\n",
       "      <th>...</th>\n",
       "      <td>...</td>\n",
       "      <td>...</td>\n",
       "      <td>...</td>\n",
       "      <td>...</td>\n",
       "    </tr>\n",
       "    <tr>\n",
       "      <th>443416</th>\n",
       "      <td>-121.300868</td>\n",
       "      <td>39.448478</td>\n",
       "      <td>-121.300661</td>\n",
       "      <td>39.448639</td>\n",
       "    </tr>\n",
       "    <tr>\n",
       "      <th>443417</th>\n",
       "      <td>-122.343937</td>\n",
       "      <td>41.964263</td>\n",
       "      <td>-122.343722</td>\n",
       "      <td>41.964425</td>\n",
       "    </tr>\n",
       "    <tr>\n",
       "      <th>443418</th>\n",
       "      <td>-119.842470</td>\n",
       "      <td>38.568672</td>\n",
       "      <td>-119.842264</td>\n",
       "      <td>38.568833</td>\n",
       "    </tr>\n",
       "    <tr>\n",
       "      <th>443419</th>\n",
       "      <td>-120.724594</td>\n",
       "      <td>41.894543</td>\n",
       "      <td>-120.724380</td>\n",
       "      <td>41.894704</td>\n",
       "    </tr>\n",
       "    <tr>\n",
       "      <th>443420</th>\n",
       "      <td>-122.446594</td>\n",
       "      <td>38.602147</td>\n",
       "      <td>-122.446389</td>\n",
       "      <td>38.602307</td>\n",
       "    </tr>\n",
       "  </tbody>\n",
       "</table>\n",
       "<p>443421 rows × 4 columns</p>\n",
       "</div>"
      ],
      "text/plain": [
       "              minx       miny        maxx       maxy\n",
       "0      -117.633502  34.349113 -117.622626  34.355126\n",
       "1      -117.707462  34.249876 -117.625757  34.327159\n",
       "2      -117.969443  34.362519 -117.968780  34.363069\n",
       "3      -117.748593  34.363877 -117.747930  34.364427\n",
       "4      -118.210098  34.359959 -118.209435  34.360507\n",
       "...            ...        ...         ...        ...\n",
       "443416 -121.300868  39.448478 -121.300661  39.448639\n",
       "443417 -122.343937  41.964263 -122.343722  41.964425\n",
       "443418 -119.842470  38.568672 -119.842264  38.568833\n",
       "443419 -120.724594  41.894543 -120.724380  41.894704\n",
       "443420 -122.446594  38.602147 -122.446389  38.602307\n",
       "\n",
       "[443421 rows x 4 columns]"
      ]
     },
     "execution_count": 7,
     "metadata": {},
     "output_type": "execute_result"
    }
   ],
   "source": [
    "data = data.set_crs(epsg = 3310)\n",
    "data = data.to_crs(epsg = 4326)\n",
    "data.geometry.bounds"
   ]
  },
  {
   "attachments": {},
   "cell_type": "markdown",
   "metadata": {},
   "source": [
    "Only keep columns we are interested in (mostly location and date)"
   ]
  },
  {
   "cell_type": "code",
   "execution_count": 8,
   "metadata": {},
   "outputs": [
    {
     "name": "stdout",
     "output_type": "stream",
     "text": [
      "<class 'geopandas.geodataframe.GeoDataFrame'>\n",
      "RangeIndex: 443421 entries, 0 to 443420\n",
      "Data columns (total 6 columns):\n",
      " #   Column     Non-Null Count   Dtype   \n",
      "---  ------     --------------   -----   \n",
      " 0   RPT_YR     443421 non-null  int64   \n",
      " 1   SEVERITY1  401858 non-null  object  \n",
      " 2   TPA_Total  440324 non-null  float64 \n",
      " 3   ACRES      443421 non-null  float64 \n",
      " 4   Date       81386 non-null   object  \n",
      " 5   geometry   443421 non-null  geometry\n",
      "dtypes: float64(2), geometry(1), int64(1), object(2)\n",
      "memory usage: 20.3+ MB\n"
     ]
    }
   ],
   "source": [
    "columns_to_drop = ['SURVEY_ID1', 'SURVEY_ID2', 'SURVEY_ID3', 'DMG_TYPE1', 'DMG_TYPE2', 'DMG_TYPE3', \n",
    "'SEVERITY2', 'SEVERITY3', 'PATTERN1', 'PATTERN2', 'PATTERN3', 'TPA1', 'TPA2', 'TPA3', 'NO_TREES1', \n",
    "'NO_TREES2', 'NO_TREES3', 'DCA1', 'DCA2', 'DCA3', 'HOST1', 'HOST2', 'HOST3', 'FOR_TYPE1', 'FOR_TYPE2',\n",
    " 'FOR_TYPE3', 'NOTES', 'no_years', 'ADS_ID', 'Shape_Length0', 'Shape_Area0', 'Shape_Length', 'Shape_Area' , 'NO_TREES_TOTAL'] #list of columns to delete\n",
    "\n",
    "data.drop(columns_to_drop , axis = 1 , inplace = True) #delete columns\n",
    "data.info() #display info"
   ]
  },
  {
   "attachments": {},
   "cell_type": "markdown",
   "metadata": {},
   "source": [
    "Remove fires less than 1000 acres and with no severity information"
   ]
  },
  {
   "cell_type": "code",
   "execution_count": 9,
   "metadata": {},
   "outputs": [
    {
     "name": "stdout",
     "output_type": "stream",
     "text": [
      "entries: 443421\n",
      "entries: 6351\n",
      "entries: 6335\n"
     ]
    }
   ],
   "source": [
    "print('entries:' , len(data)) #display number of rows\n",
    "data = data.loc[data['ACRES'] > 1000] #assign dataframe with the same frame but w/ acres > 10\n",
    "print('entries:' , len(data))\n",
    "missing_severity = data.loc[data['SEVERITY1'].isnull()] #find entries where severity is null\n",
    "data.drop(missing_severity.index , inplace = True) #drop said entries\n",
    "print('entries:' , len(data))"
   ]
  },
  {
   "attachments": {},
   "cell_type": "markdown",
   "metadata": {},
   "source": [
    "Export cleaned data to a .geojson"
   ]
  },
  {
   "cell_type": "code",
   "execution_count": 10,
   "metadata": {},
   "outputs": [
    {
     "name": "stdout",
     "output_type": "stream",
     "text": [
      "<class 'geopandas.geodataframe.GeoDataFrame'>\n",
      "Int64Index: 6335 entries, 1 to 427602\n",
      "Data columns (total 6 columns):\n",
      " #   Column     Non-Null Count  Dtype   \n",
      "---  ------     --------------  -----   \n",
      " 0   RPT_YR     6335 non-null   int64   \n",
      " 1   SEVERITY1  6335 non-null   object  \n",
      " 2   TPA_Total  6171 non-null   float64 \n",
      " 3   ACRES      6335 non-null   float64 \n",
      " 4   Date       2286 non-null   object  \n",
      " 5   geometry   6335 non-null   geometry\n",
      "dtypes: float64(2), geometry(1), int64(1), object(2)\n",
      "memory usage: 346.4+ KB\n"
     ]
    }
   ],
   "source": [
    "data.info()\n",
    "data.to_file('Clean_tree.geojson', driver = 'GeoJSON' , encoding = 'utf-8')"
   ]
  }
 ],
 "metadata": {
  "kernelspec": {
   "display_name": "base",
   "language": "python",
   "name": "python3"
  },
  "language_info": {
   "codemirror_mode": {
    "name": "ipython",
    "version": 3
   },
   "file_extension": ".py",
   "mimetype": "text/x-python",
   "name": "python",
   "nbconvert_exporter": "python",
   "pygments_lexer": "ipython3",
   "version": "3.9.13"
  },
  "orig_nbformat": 4,
  "vscode": {
   "interpreter": {
    "hash": "f506ea6ad3cdd143e00922cd7413cd7a1b83580fe7abf8de8fb11d06ac5448c5"
   }
  }
 },
 "nbformat": 4,
 "nbformat_minor": 2
}
