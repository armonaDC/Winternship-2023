{
 "cells": [
  {
   "cell_type": "code",
   "execution_count": 17,
   "metadata": {},
   "outputs": [
    {
     "name": "stdout",
     "output_type": "stream",
     "text": [
      "Requirement already satisfied: geopandas in c:\\users\\juan\\anaconda3\\lib\\site-packages (0.12.2)\n",
      "Requirement already satisfied: pandas>=1.0.0 in c:\\users\\juan\\anaconda3\\lib\\site-packages (from geopandas) (1.4.4)\n",
      "Requirement already satisfied: packaging in c:\\users\\juan\\anaconda3\\lib\\site-packages (from geopandas) (21.3)\n",
      "Requirement already satisfied: pyproj>=2.6.1.post1 in c:\\users\\juan\\anaconda3\\lib\\site-packages (from geopandas) (3.4.1)\n",
      "Requirement already satisfied: shapely>=1.7 in c:\\users\\juan\\anaconda3\\lib\\site-packages (from geopandas) (2.0.0)\n",
      "Requirement already satisfied: fiona>=1.8 in c:\\users\\juan\\anaconda3\\lib\\site-packages (from geopandas) (1.8.22)\n",
      "Requirement already satisfied: cligj>=0.5 in c:\\users\\juan\\anaconda3\\lib\\site-packages (from fiona>=1.8->geopandas) (0.7.2)\n",
      "Requirement already satisfied: six>=1.7 in c:\\users\\juan\\anaconda3\\lib\\site-packages (from fiona>=1.8->geopandas) (1.16.0)\n",
      "Requirement already satisfied: setuptools in c:\\users\\juan\\anaconda3\\lib\\site-packages (from fiona>=1.8->geopandas) (63.4.1)\n",
      "Requirement already satisfied: munch in c:\\users\\juan\\anaconda3\\lib\\site-packages (from fiona>=1.8->geopandas) (2.5.0)\n",
      "Requirement already satisfied: click>=4.0 in c:\\users\\juan\\anaconda3\\lib\\site-packages (from fiona>=1.8->geopandas) (8.0.4)\n",
      "Requirement already satisfied: attrs>=17 in c:\\users\\juan\\anaconda3\\lib\\site-packages (from fiona>=1.8->geopandas) (21.4.0)\n",
      "Requirement already satisfied: certifi in c:\\users\\juan\\anaconda3\\lib\\site-packages (from fiona>=1.8->geopandas) (2022.9.14)\n",
      "Requirement already satisfied: click-plugins>=1.0 in c:\\users\\juan\\anaconda3\\lib\\site-packages (from fiona>=1.8->geopandas) (1.1.1)\n",
      "Requirement already satisfied: numpy>=1.18.5 in c:\\users\\juan\\anaconda3\\lib\\site-packages (from pandas>=1.0.0->geopandas) (1.21.5)\n",
      "Requirement already satisfied: python-dateutil>=2.8.1 in c:\\users\\juan\\anaconda3\\lib\\site-packages (from pandas>=1.0.0->geopandas) (2.8.2)\n",
      "Requirement already satisfied: pytz>=2020.1 in c:\\users\\juan\\anaconda3\\lib\\site-packages (from pandas>=1.0.0->geopandas) (2022.1)\n",
      "Requirement already satisfied: pyparsing!=3.0.5,>=2.0.2 in c:\\users\\juan\\anaconda3\\lib\\site-packages (from packaging->geopandas) (3.0.9)\n",
      "Requirement already satisfied: colorama in c:\\users\\juan\\anaconda3\\lib\\site-packages (from click>=4.0->fiona>=1.8->geopandas) (0.4.5)\n",
      "Note: you may need to restart the kernel to use updated packages.\n"
     ]
    }
   ],
   "source": [
    "%pip install geopandas"
   ]
  },
  {
   "cell_type": "code",
   "execution_count": 18,
   "metadata": {},
   "outputs": [],
   "source": [
    "import pandas as pd\n",
    "import matplotlib.pyplot as plt\n",
    "import numpy as np\n",
    "import geopandas as gpd\n",
    "\n",
    "df = gpd.read_file('./ds2783.gdb/')\n"
   ]
  },
  {
   "cell_type": "code",
   "execution_count": 31,
   "metadata": {},
   "outputs": [
    {
     "name": "stdout",
     "output_type": "stream",
     "text": [
      "        RPT_YR SURVEY_ID1 SURVEY_ID2 SURVEY_ID3      DMG_TYPE1 DMG_TYPE2  \\\n",
      "29457     2006        FHP         -1         -1      Mortality   No Data   \n",
      "29458     2006        FHP         -1         -1      Mortality   No Data   \n",
      "29459     2006        FHP         -1         -1      Mortality   No Data   \n",
      "29460     2006        FHP         -1         -1      Mortality   No Data   \n",
      "29461     2006        FHP         -1         -1      Mortality   No Data   \n",
      "...        ...        ...        ...        ...            ...       ...   \n",
      "443416    2019       None       None       None  Mortality - 2      None   \n",
      "443417    2019       None       None       None  Mortality - 2      None   \n",
      "443418    2019       None       None       None  Mortality - 2      None   \n",
      "443419    2019       None       None       None  Mortality - 2      None   \n",
      "443420    2019       None       None       None  Mortality - 2      None   \n",
      "\n",
      "       DMG_TYPE3 SEVERITY1 SEVERITY2 SEVERITY3  ...     ACRES  \\\n",
      "29457    No Data   No data   No data   No data  ...  0.400211   \n",
      "29458    No Data   No data   No data   No data  ...  0.400225   \n",
      "29459    No Data   No data   No data   No data  ...  0.400176   \n",
      "29460    No Data   No data   No data   No data  ...  0.400230   \n",
      "29461    No Data   No data   No data   No data  ...  0.695640   \n",
      "...          ...       ...       ...       ...  ...       ...   \n",
      "443416      None      None      None      None  ...  0.062881   \n",
      "443417      None      None      None      None  ...  0.062881   \n",
      "443418      None      None      None      None  ...  0.062881   \n",
      "443419      None      None      None      None  ...  0.062881   \n",
      "443420      None      None      None      None  ...  0.062881   \n",
      "\n",
      "                   NOTES no_years  Date  ADS_ID  Shape_Length0  Shape_Area0  \\\n",
      "29457                 P!      1.0  None    None     142.716370  1619.598300   \n",
      "29458                SP!      1.0  None    None     142.717760  1619.653900   \n",
      "29459                JP!      1.0  None    None     142.708949  1619.454350   \n",
      "29460                PP!      1.0  None    None     142.718037  1619.673700   \n",
      "29461   LOK!1!unionSOD06      1.0  None    None     188.325996  2815.166050   \n",
      "...                  ...      ...   ...     ...            ...          ...   \n",
      "443416              None      NaN  0718    None      56.137696   250.783704   \n",
      "443417              None      NaN  0731    None      56.117967   250.607458   \n",
      "443418              None      NaN  0717    None      56.138852   250.794027   \n",
      "443419              None      NaN  0725    None      56.109750   250.534076   \n",
      "443420              None      NaN  0802    None      56.151645   250.908344   \n",
      "\n",
      "        Shape_Length   Shape_Area  \\\n",
      "29457     142.716370  1619.598300   \n",
      "29458     142.717760  1619.653900   \n",
      "29459     142.708949  1619.454350   \n",
      "29460     142.718037  1619.673700   \n",
      "29461     188.325996  2815.166050   \n",
      "...              ...          ...   \n",
      "443416     56.137696   250.783704   \n",
      "443417     56.117967   250.607458   \n",
      "443418     56.138852   250.794027   \n",
      "443419     56.109750   250.534076   \n",
      "443420     56.151645   250.908344   \n",
      "\n",
      "                                                 geometry  \n",
      "29457   MULTIPOLYGON (((-20718.767 98700.675, -20720.0...  \n",
      "29458   MULTIPOLYGON (((-49901.327 91236.325, -49902.6...  \n",
      "29459   MULTIPOLYGON (((-4660.667 102701.605, -4661.97...  \n",
      "29460   MULTIPOLYGON (((-54537.297 90015.885, -54538.9...  \n",
      "29461   MULTIPOLYGON (((-182476.737 57549.635, -182481...  \n",
      "...                                                   ...  \n",
      "443416  MULTIPOLYGON (((-111864.172 159965.874, -11186...  \n",
      "443417  MULTIPOLYGON (((-194646.741 440890.905, -19464...  \n",
      "443418  MULTIPOLYGON (((13716.705 61425.343, 13717.314...  \n",
      "443419  MULTIPOLYGON (((-60232.250 430985.177, -60231....  \n",
      "443420  MULTIPOLYGON (((-212803.582 67880.641, -212802...  \n",
      "\n",
      "[413964 rows x 40 columns]\n"
     ]
    }
   ],
   "source": [
    "Tdata = df\n",
    "\n",
    "print(Tdata[Tdata.index > 29456])\n",
    "\n",
    "Tdata = Tdata.to_crs(epsg = 4326)"
   ]
  },
  {
   "cell_type": "code",
   "execution_count": 34,
   "metadata": {},
   "outputs": [
    {
     "name": "stdout",
     "output_type": "stream",
     "text": [
      "53314\n"
     ]
    },
    {
     "ename": "ValueError",
     "evalue": "The truth value of a Series is ambiguous. Use a.empty, a.bool(), a.item(), a.any() or a.all().",
     "output_type": "error",
     "traceback": [
      "\u001b[1;31m---------------------------------------------------------------------------\u001b[0m",
      "\u001b[1;31mValueError\u001b[0m                                Traceback (most recent call last)",
      "\u001b[1;32m~\\AppData\\Local\\Temp\\ipykernel_10136\\3114212.py\u001b[0m in \u001b[0;36m<module>\u001b[1;34m\u001b[0m\n\u001b[0;32m      6\u001b[0m \u001b[0mTdata\u001b[0m\u001b[1;33m.\u001b[0m\u001b[0msort_values\u001b[0m\u001b[1;33m(\u001b[0m\u001b[0mby\u001b[0m \u001b[1;33m=\u001b[0m \u001b[1;33m[\u001b[0m\u001b[1;34m\"Date\"\u001b[0m\u001b[1;33m]\u001b[0m\u001b[1;33m)\u001b[0m\u001b[1;33m\u001b[0m\u001b[1;33m\u001b[0m\u001b[0m\n\u001b[0;32m      7\u001b[0m \u001b[0mTdata\u001b[0m \u001b[1;33m=\u001b[0m \u001b[0mTdata\u001b[0m\u001b[1;33m.\u001b[0m\u001b[0mloc\u001b[0m\u001b[1;33m[\u001b[0m\u001b[0mTdata\u001b[0m\u001b[1;33m[\u001b[0m\u001b[1;34m\"ACRES\"\u001b[0m\u001b[1;33m]\u001b[0m \u001b[1;33m>\u001b[0m \u001b[1;36m100\u001b[0m\u001b[1;33m]\u001b[0m\u001b[1;33m\u001b[0m\u001b[1;33m\u001b[0m\u001b[0m\n\u001b[1;32m----> 8\u001b[1;33m \u001b[0mTdata\u001b[0m \u001b[1;33m=\u001b[0m \u001b[0mTdata\u001b[0m\u001b[1;33m.\u001b[0m\u001b[0mloc\u001b[0m\u001b[1;33m[\u001b[0m\u001b[0mTdata\u001b[0m\u001b[1;33m[\u001b[0m\u001b[1;34m\"SEVERITY1\"\u001b[0m\u001b[1;33m]\u001b[0m \u001b[1;33m==\u001b[0m \u001b[1;34m\"Moderate (11-29%)\"\u001b[0m \u001b[1;32mor\u001b[0m \u001b[0mTdata\u001b[0m\u001b[1;33m[\u001b[0m\u001b[1;34m\"SEVERITY1\"\u001b[0m\u001b[1;33m]\u001b[0m \u001b[1;33m==\u001b[0m \u001b[1;34m\"SEVERE (30-50%)\"\u001b[0m\u001b[1;33m]\u001b[0m\u001b[1;33m\u001b[0m\u001b[1;33m\u001b[0m\u001b[0m\n\u001b[0m\u001b[0;32m      9\u001b[0m \u001b[0mprint\u001b[0m\u001b[1;33m(\u001b[0m\u001b[0mlen\u001b[0m\u001b[1;33m(\u001b[0m\u001b[0mTdata\u001b[0m\u001b[1;33m)\u001b[0m\u001b[1;33m)\u001b[0m\u001b[1;33m\u001b[0m\u001b[1;33m\u001b[0m\u001b[0m\n\u001b[0;32m     10\u001b[0m \u001b[0mTdata\u001b[0m\u001b[1;33m.\u001b[0m\u001b[0mtail\u001b[0m\u001b[1;33m\u001b[0m\u001b[1;33m\u001b[0m\u001b[0m\n",
      "\u001b[1;32mc:\\Users\\Juan\\anaconda3\\lib\\site-packages\\pandas\\core\\generic.py\u001b[0m in \u001b[0;36m__nonzero__\u001b[1;34m(self)\u001b[0m\n\u001b[0;32m   1525\u001b[0m     \u001b[1;33m@\u001b[0m\u001b[0mfinal\u001b[0m\u001b[1;33m\u001b[0m\u001b[1;33m\u001b[0m\u001b[0m\n\u001b[0;32m   1526\u001b[0m     \u001b[1;32mdef\u001b[0m \u001b[0m__nonzero__\u001b[0m\u001b[1;33m(\u001b[0m\u001b[0mself\u001b[0m\u001b[1;33m)\u001b[0m\u001b[1;33m:\u001b[0m\u001b[1;33m\u001b[0m\u001b[1;33m\u001b[0m\u001b[0m\n\u001b[1;32m-> 1527\u001b[1;33m         raise ValueError(\n\u001b[0m\u001b[0;32m   1528\u001b[0m             \u001b[1;34mf\"The truth value of a {type(self).__name__} is ambiguous. \"\u001b[0m\u001b[1;33m\u001b[0m\u001b[1;33m\u001b[0m\u001b[0m\n\u001b[0;32m   1529\u001b[0m             \u001b[1;34m\"Use a.empty, a.bool(), a.item(), a.any() or a.all().\"\u001b[0m\u001b[1;33m\u001b[0m\u001b[1;33m\u001b[0m\u001b[0m\n",
      "\u001b[1;31mValueError\u001b[0m: The truth value of a Series is ambiguous. Use a.empty, a.bool(), a.item(), a.any() or a.all()."
     ]
    }
   ],
   "source": [
    "\n",
    "print(len(Tdata))\n",
    "Tdata = Tdata.loc[Tdata[\"RPT_YR\"] > 1949]\n",
    "# state = Tdata[Tdata.STATE != \"CA\"]\n",
    "# Tdata.drop(state.index)\n",
    "Tdata = Tdata[Tdata['RPT_YR'].notna()]\n",
    "Tdata.sort_values(by = [\"Date\"])\n",
    "Tdata = Tdata.loc[Tdata[\"ACRES\"] > 100]\n",
    "Tdata = Tdata.loc[Tdata[\"SEVERITY1\"] == \"Moderate (11-29%)\" or Tdata[\"SEVERITY1\"] == \"SEVERE (30-50%)\"]\n",
    "print(len(Tdata))\n",
    "Tdata.tail"
   ]
  },
  {
   "cell_type": "code",
   "execution_count": null,
   "metadata": {},
   "outputs": [],
   "source": []
  }
 ],
 "metadata": {
  "kernelspec": {
   "display_name": "base",
   "language": "python",
   "name": "python3"
  },
  "language_info": {
   "codemirror_mode": {
    "name": "ipython",
    "version": 3
   },
   "file_extension": ".py",
   "mimetype": "text/x-python",
   "name": "python",
   "nbconvert_exporter": "python",
   "pygments_lexer": "ipython3",
   "version": "3.9.13"
  },
  "orig_nbformat": 4,
  "vscode": {
   "interpreter": {
    "hash": "f506ea6ad3cdd143e00922cd7413cd7a1b83580fe7abf8de8fb11d06ac5448c5"
   }
  }
 },
 "nbformat": 4,
 "nbformat_minor": 2
}
